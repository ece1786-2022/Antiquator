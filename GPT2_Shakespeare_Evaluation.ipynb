{
  "nbformat": 4,
  "nbformat_minor": 0,
  "metadata": {
    "colab": {
      "provenance": [],
      "collapsed_sections": [
        "64pqE-FRY57K"
      ]
    },
    "kernelspec": {
      "name": "python3",
      "display_name": "Python 3"
    },
    "language_info": {
      "name": "python"
    },
    "gpuClass": "standard"
  },
  "cells": [
    {
      "cell_type": "markdown",
      "source": [
        "## Quantitative and Qualitative Evaluation of GPT2"
      ],
      "metadata": {
        "id": "6AvOVo6Hrw5M"
      }
    },
    {
      "cell_type": "code",
      "execution_count": null,
      "metadata": {
        "colab": {
          "base_uri": "https://localhost:8080/"
        },
        "id": "KQeNYeYvEh1c",
        "outputId": "4046fde5-2ce6-4233-8c8f-eccad6f97aa8"
      },
      "outputs": [
        {
          "output_type": "stream",
          "name": "stdout",
          "text": [
            "Looking in indexes: https://pypi.org/simple, https://us-python.pkg.dev/colab-wheels/public/simple/\n",
            "Collecting transformers\n",
            "  Downloading transformers-4.25.1-py3-none-any.whl (5.8 MB)\n",
            "\u001b[K     |████████████████████████████████| 5.8 MB 4.8 MB/s \n",
            "\u001b[?25hCollecting huggingface-hub<1.0,>=0.10.0\n",
            "  Downloading huggingface_hub-0.11.1-py3-none-any.whl (182 kB)\n",
            "\u001b[K     |████████████████████████████████| 182 kB 56.9 MB/s \n",
            "\u001b[?25hRequirement already satisfied: requests in /usr/local/lib/python3.8/dist-packages (from transformers) (2.23.0)\n",
            "Requirement already satisfied: numpy>=1.17 in /usr/local/lib/python3.8/dist-packages (from transformers) (1.21.6)\n",
            "Requirement already satisfied: filelock in /usr/local/lib/python3.8/dist-packages (from transformers) (3.8.0)\n",
            "Requirement already satisfied: pyyaml>=5.1 in /usr/local/lib/python3.8/dist-packages (from transformers) (6.0)\n",
            "Requirement already satisfied: regex!=2019.12.17 in /usr/local/lib/python3.8/dist-packages (from transformers) (2022.6.2)\n",
            "Requirement already satisfied: packaging>=20.0 in /usr/local/lib/python3.8/dist-packages (from transformers) (21.3)\n",
            "Collecting tokenizers!=0.11.3,<0.14,>=0.11.1\n",
            "  Downloading tokenizers-0.13.2-cp38-cp38-manylinux_2_17_x86_64.manylinux2014_x86_64.whl (7.6 MB)\n",
            "\u001b[K     |████████████████████████████████| 7.6 MB 48.4 MB/s \n",
            "\u001b[?25hRequirement already satisfied: tqdm>=4.27 in /usr/local/lib/python3.8/dist-packages (from transformers) (4.64.1)\n",
            "Requirement already satisfied: typing-extensions>=3.7.4.3 in /usr/local/lib/python3.8/dist-packages (from huggingface-hub<1.0,>=0.10.0->transformers) (4.4.0)\n",
            "Requirement already satisfied: pyparsing!=3.0.5,>=2.0.2 in /usr/local/lib/python3.8/dist-packages (from packaging>=20.0->transformers) (3.0.9)\n",
            "Requirement already satisfied: certifi>=2017.4.17 in /usr/local/lib/python3.8/dist-packages (from requests->transformers) (2022.9.24)\n",
            "Requirement already satisfied: urllib3!=1.25.0,!=1.25.1,<1.26,>=1.21.1 in /usr/local/lib/python3.8/dist-packages (from requests->transformers) (1.24.3)\n",
            "Requirement already satisfied: chardet<4,>=3.0.2 in /usr/local/lib/python3.8/dist-packages (from requests->transformers) (3.0.4)\n",
            "Requirement already satisfied: idna<3,>=2.5 in /usr/local/lib/python3.8/dist-packages (from requests->transformers) (2.10)\n",
            "Installing collected packages: tokenizers, huggingface-hub, transformers\n",
            "Successfully installed huggingface-hub-0.11.1 tokenizers-0.13.2 transformers-4.25.1\n"
          ]
        }
      ],
      "source": [
        "!pip install transformers"
      ]
    },
    {
      "cell_type": "code",
      "execution_count": null,
      "metadata": {
        "id": "UhUCKWEYE2gE"
      },
      "outputs": [],
      "source": [
        "from transformers import GPT2Tokenizer, GPT2LMHeadModel, AdamW, TextDataset, DataCollatorForLanguageModeling, Trainer, TrainingArguments\n",
        "from transformers import T5Tokenizer, T5ForConditionalGeneration\n",
        "\n",
        "import torch\n",
        "import torch.nn as nn\n",
        "import torch.nn.functional as F\n",
        "\n",
        "from nltk.translate.bleu_score import sentence_bleu\n",
        "\n",
        "from torch.utils.data import Dataset, DataLoader\n",
        "\n",
        "import numpy as np\n",
        "import pandas as pd\n",
        "import matplotlib.pyplot as plt\n",
        "from sklearn.model_selection import train_test_split\n",
        "import random\n",
        "\n",
        "from tqdm.auto import tqdm"
      ]
    },
    {
      "cell_type": "code",
      "source": [
        "from google.colab import drive\n",
        "\n",
        "import shutil\n",
        "\n",
        "drive.mount('/content/drive')\n"
      ],
      "metadata": {
        "id": "6GAzZWk9kHtL",
        "colab": {
          "base_uri": "https://localhost:8080/"
        },
        "outputId": "b6336fd7-7878-4baf-f0f4-7257f91493bd"
      },
      "execution_count": null,
      "outputs": [
        {
          "output_type": "stream",
          "name": "stdout",
          "text": [
            "Mounted at /content/drive\n"
          ]
        }
      ]
    },
    {
      "cell_type": "code",
      "source": [
        "device = 'cuda' if torch.cuda.is_available() else 'cpu'"
      ],
      "metadata": {
        "id": "6vxrXul_lFVB"
      },
      "execution_count": null,
      "outputs": []
    },
    {
      "cell_type": "code",
      "source": [
        "!nvidia-smi"
      ],
      "metadata": {
        "id": "pj6UlgC40fB0",
        "colab": {
          "base_uri": "https://localhost:8080/"
        },
        "outputId": "e28a2fa9-272a-4986-dc5e-9bf0dccf211c"
      },
      "execution_count": null,
      "outputs": [
        {
          "output_type": "stream",
          "name": "stdout",
          "text": [
            "NVIDIA-SMI has failed because it couldn't communicate with the NVIDIA driver. Make sure that the latest NVIDIA driver is installed and running.\n",
            "\n"
          ]
        }
      ]
    },
    {
      "cell_type": "code",
      "execution_count": null,
      "metadata": {
        "id": "Fl_S9eTGFpeL"
      },
      "outputs": [],
      "source": [
        "data_file_open = open('/content/data_f.txt', 'r', encoding='UTF-8')\n",
        "label_file_open = open('/content/label_f.txt', 'r', encoding='UTF-8')\n",
        "data_lines=data_file_open.readlines()\n",
        "label_lines = label_file_open.readlines()\n",
        "\n",
        "input_dataset = []\n",
        "output_dataset = []\n",
        "dataset = []\n",
        "\n",
        "\n",
        "for item in data_lines:\n",
        "    input_dataset.append(item.strip())\n",
        "for item in label_lines:\n",
        "    output_dataset.append(item.strip())"
      ]
    },
    {
      "cell_type": "markdown",
      "source": [
        "### Works for both GPT2 and GPT2-Medium"
      ],
      "metadata": {
        "id": "edSUtDaOr3WD"
      }
    },
    {
      "cell_type": "code",
      "execution_count": null,
      "metadata": {
        "id": "SO69IDwbF5hA"
      },
      "outputs": [],
      "source": [
        "tokenizer = GPT2Tokenizer.from_pretrained('gpt2')\n",
        "model = GPT2LMHeadModel.from_pretrained('gpt2', pad_token_id=tokenizer.eos_token_id)\n",
        "\n",
        "tokenizer.pad_token = tokenizer.eos_token"
      ]
    },
    {
      "cell_type": "markdown",
      "source": [
        "### Loading saved model checkpoints"
      ],
      "metadata": {
        "id": "fsXP4Qssr8GE"
      }
    },
    {
      "cell_type": "code",
      "source": [
        "model.load_state_dict(torch.load('/content/drive/MyDrive/ECE1786_Project/Models/GPT 2/gpt2_0frozen_8e-05lr_5epochs.pt'))"
      ],
      "metadata": {
        "colab": {
          "base_uri": "https://localhost:8080/"
        },
        "id": "cnTv0tUSmoKd",
        "outputId": "ffc35d52-5513-4e56-9cfc-707568d8fb30"
      },
      "execution_count": null,
      "outputs": [
        {
          "output_type": "execute_result",
          "data": {
            "text/plain": [
              "<All keys matched successfully>"
            ]
          },
          "metadata": {},
          "execution_count": 97
        }
      ]
    },
    {
      "cell_type": "code",
      "source": [
        "model = model.to(device)"
      ],
      "metadata": {
        "id": "fFaOZTNQm5i_"
      },
      "execution_count": null,
      "outputs": []
    },
    {
      "cell_type": "markdown",
      "source": [
        "### Get Train & Validation Set"
      ],
      "metadata": {
        "id": "CuZmDEvlWgRS"
      }
    },
    {
      "cell_type": "code",
      "source": [
        "dataset = []\n",
        "\n",
        "for i in range(len(input_dataset)):\n",
        "    dataset.append(input_dataset[i].strip() + ' = ' + output_dataset[i].strip())"
      ],
      "metadata": {
        "id": "qGIfJ-dqWg4o"
      },
      "execution_count": null,
      "outputs": []
    },
    {
      "cell_type": "code",
      "source": [
        "len(dataset)"
      ],
      "metadata": {
        "colab": {
          "base_uri": "https://localhost:8080/"
        },
        "id": "yHqjVlzIXNJZ",
        "outputId": "1f351cee-0865-4b50-c507-71586c90ae5c"
      },
      "execution_count": null,
      "outputs": [
        {
          "output_type": "execute_result",
          "data": {
            "text/plain": [
              "42535"
            ]
          },
          "metadata": {},
          "execution_count": 117
        }
      ]
    },
    {
      "cell_type": "code",
      "source": [
        "train_dataset, val_dataset = train_test_split(dataset, test_size=0.2, random_state=0)"
      ],
      "metadata": {
        "id": "Z1wMaPaEXPQX"
      },
      "execution_count": null,
      "outputs": []
    },
    {
      "cell_type": "code",
      "source": [
        "_, train_sample = train_test_split(train_dataset, test_size=1000, random_state=0)\n",
        "_, val_sample = train_test_split(val_dataset, test_size=1000, random_state=0)"
      ],
      "metadata": {
        "id": "u3fAN6rsXS_b"
      },
      "execution_count": null,
      "outputs": []
    },
    {
      "cell_type": "code",
      "source": [
        "print(train_sample[0])\n",
        "print(val_sample[0])"
      ],
      "metadata": {
        "colab": {
          "base_uri": "https://localhost:8080/"
        },
        "id": "3OigONe4X4X3",
        "outputId": "803792e8-ae69-4fed-be50-2f4fc991bc67"
      },
      "execution_count": null,
      "outputs": [
        {
          "output_type": "stream",
          "name": "stdout",
          "text": [
            "What is my nation? = What ish my nation?\n",
            "Go back again, you slave, and bring him home. = Go back again, thou slave, and fetch him home.\n"
          ]
        }
      ]
    },
    {
      "cell_type": "markdown",
      "source": [
        "## Quantitative Evaluation using BLEU Score"
      ],
      "metadata": {
        "id": "NgFDHJMR-i1l"
      }
    },
    {
      "cell_type": "markdown",
      "source": [
        "### Calculate BLEU Score"
      ],
      "metadata": {
        "id": "qb2N1o1nlOxV"
      }
    },
    {
      "cell_type": "code",
      "source": [
        "from math import exp\n",
        "from typing import List, Sequence, Iterable"
      ],
      "metadata": {
        "id": "vurJNJW6lOlG"
      },
      "execution_count": null,
      "outputs": []
    },
    {
      "cell_type": "code",
      "source": [
        "#Extract all subsequences of length n\n",
        "\n",
        "def grouper(seq, n):\n",
        "\n",
        "    n_grams = []\n",
        "\n",
        "    for j in range(len(seq) - n + 1):\n",
        "        n_grams.append(seq[j:j+n])\n",
        "\n",
        "    return n_grams"
      ],
      "metadata": {
        "id": "ew43qnsJlOiw"
      },
      "execution_count": null,
      "outputs": []
    },
    {
      "cell_type": "code",
      "source": [
        "#Calculate the precision for a given order of n-gram\n",
        "\n",
        "def n_gram_precision(reference, candidate, n):\n",
        "\n",
        "    reference_ngrams = grouper(reference, n)\n",
        "    candidate_ngrams = grouper(candidate, n)\n",
        "\n",
        "\n",
        "    C = 0.0\n",
        "\n",
        "    for n_gram in candidate_ngrams:\n",
        "        if (n_gram in reference_ngrams):\n",
        "            C = C+1.0\n",
        "    \n",
        "    N = len(candidate_ngrams)\n",
        "\n",
        "    if (N==0):\n",
        "      return 0\n",
        "\n",
        "    return C/N"
      ],
      "metadata": {
        "id": "R6DrYKuulOgZ"
      },
      "execution_count": null,
      "outputs": []
    },
    {
      "cell_type": "code",
      "source": [
        "#Calculate the brevity penalty between a reference and candidate\n",
        "\n",
        "def brevity_penalty(reference, candidate):\n",
        "\n",
        "    if (len(candidate) == 0):\n",
        "        return 0\n",
        "\n",
        "    brevity = len(reference) / len(candidate)\n",
        "\n",
        "    if(brevity < 1):\n",
        "        return 1\n",
        "    else:\n",
        "        return (exp(1-brevity))"
      ],
      "metadata": {
        "id": "oeQOXisvlOeD"
      },
      "execution_count": null,
      "outputs": []
    },
    {
      "cell_type": "code",
      "source": [
        "#Calculate the BLEU score for n gram\n",
        "\n",
        "def BLEU_score(reference, candidate, n):\n",
        "\n",
        "    precisions = []\n",
        "\n",
        "    for i in range(n):\n",
        "        precisions.append(n_gram_precision(reference, candidate, (i+1)))\n",
        "\n",
        "    geometric_mean = 1.0\n",
        "\n",
        "    for p in precisions:\n",
        "        geometric_mean = geometric_mean * p\n",
        "\n",
        "    geometric_mean = geometric_mean**(1.0/n)\n",
        "\n",
        "    BP = brevity_penalty(reference, candidate)\n",
        "\n",
        "    bleu = BP * geometric_mean\n",
        "\n",
        "    return bleu"
      ],
      "metadata": {
        "id": "3rMu40SElOaZ"
      },
      "execution_count": null,
      "outputs": []
    },
    {
      "cell_type": "code",
      "source": [
        "BLEU_score(['Hello','I','am','a','boy'] , ['Hello','I','am','a','bot'],4)"
      ],
      "metadata": {
        "colab": {
          "base_uri": "https://localhost:8080/"
        },
        "id": "UGhPQ8RilOXS",
        "outputId": "bed58eed-e58d-4a74-fbc1-6ee0567c97c9"
      },
      "execution_count": null,
      "outputs": [
        {
          "output_type": "execute_result",
          "data": {
            "text/plain": [
              "0.668740304976422"
            ]
          },
          "metadata": {},
          "execution_count": 126
        }
      ]
    },
    {
      "cell_type": "code",
      "source": [
        "model = model.to(device)"
      ],
      "metadata": {
        "id": "WRw-ZlShlOU8"
      },
      "execution_count": null,
      "outputs": []
    },
    {
      "cell_type": "markdown",
      "source": [
        "### Evaluate using BLEU Score"
      ],
      "metadata": {
        "id": "jri-OaDHnbDM"
      }
    },
    {
      "cell_type": "code",
      "source": [
        "def evaluate_BLEU(data):\n",
        "\n",
        "    sample_size = len(data)\n",
        "\n",
        "    avg_bleu = 0\n",
        "\n",
        "    for i in range(sample_size):\n",
        "\n",
        "        sample = data[i].split('=')\n",
        "        input_text = sample[0].strip() + ' = '\n",
        "        target_text = sample[1].strip()\n",
        "\n",
        "        #print(sample)\n",
        "        #print(input_text)\n",
        "        #print(target_text)\n",
        "        \n",
        "        input = tokenizer.encode(input_text)\n",
        "        target = tokenizer.encode(target_text)\n",
        "        #print(len(target))\n",
        "        max_new_tokens = len(target)+10\n",
        "\n",
        "        encoded_output = model.generate(input_ids=torch.tensor([input]).to(device), do_sample=False, max_new_tokens=max_new_tokens)\n",
        "\n",
        "        decoded_output_text = tokenizer.decode(encoded_output[0], skip_special_tokens=True)\n",
        "\n",
        "        output_text = decoded_output_text.split('=')\n",
        "        #print(output_text)\n",
        "        output_text = output_text[1].strip()\n",
        "\n",
        "        #print(output_text)\n",
        "\n",
        "        target_split = target_text.split()\n",
        "        output_split = output_text.split()\n",
        "\n",
        "        n = 0\n",
        "\n",
        "        if (len(target_split) < 2):\n",
        "            n = 1\n",
        "        elif (len(target_split) < 3):\n",
        "            n = 2\n",
        "        elif (len(target_split) < 4):\n",
        "            n = 3\n",
        "        else:\n",
        "            n = 3\n",
        "        \n",
        "        bleu = BLEU_score(target_split, output_split, n)\n",
        "\n",
        "        avg_bleu += bleu\n",
        "\n",
        "        #print(\"Input:\",input_text,\"Target:\",target_text,\"Output:\",output_text,\"BLEU:\",bleu)\n",
        "\n",
        "    avg_bleu = avg_bleu/sample_size\n",
        "\n",
        "    return avg_bleu"
      ],
      "metadata": {
        "id": "Z9HORvpknarv"
      },
      "execution_count": null,
      "outputs": []
    },
    {
      "cell_type": "markdown",
      "source": [
        "#### Training Dataset"
      ],
      "metadata": {
        "id": "64pqE-FRY57K"
      }
    },
    {
      "cell_type": "code",
      "source": [
        "train_bleu = evaluate_BLEU(train_sample)"
      ],
      "metadata": {
        "id": "j_z0jBhwd4Ov"
      },
      "execution_count": null,
      "outputs": []
    },
    {
      "cell_type": "code",
      "source": [
        "print(train_bleu)"
      ],
      "metadata": {
        "id": "u95e58zRbPh9",
        "colab": {
          "base_uri": "https://localhost:8080/"
        },
        "outputId": "31e7baf6-f4d9-4ea5-82f2-72c9c86de802"
      },
      "execution_count": null,
      "outputs": [
        {
          "output_type": "stream",
          "name": "stdout",
          "text": [
            "0.22678554024444345\n"
          ]
        }
      ]
    },
    {
      "cell_type": "markdown",
      "source": [
        "#### Validation Dataset"
      ],
      "metadata": {
        "id": "DOOjP56CbI7T"
      }
    },
    {
      "cell_type": "code",
      "source": [
        "val_bleu = evaluate_BLEU(val_sample)"
      ],
      "metadata": {
        "id": "IW4Ptdr8d4Ow"
      },
      "execution_count": null,
      "outputs": []
    },
    {
      "cell_type": "code",
      "source": [
        "val_bleu"
      ],
      "metadata": {
        "id": "JSJbOxsgd4Ow",
        "colab": {
          "base_uri": "https://localhost:8080/"
        },
        "outputId": "d4a954e7-e5af-42a2-8e65-cd5ed06a4a8e"
      },
      "execution_count": null,
      "outputs": [
        {
          "output_type": "execute_result",
          "data": {
            "text/plain": [
              "0.17940444503692402"
            ]
          },
          "metadata": {},
          "execution_count": 146
        }
      ]
    },
    {
      "cell_type": "markdown",
      "source": [
        "## Qualitative Evaluation"
      ],
      "metadata": {
        "id": "qDijOWrg_XwR"
      }
    },
    {
      "cell_type": "markdown",
      "source": [
        "### Inputs from Train set"
      ],
      "metadata": {
        "id": "d5Gx8fex4U9V"
      }
    },
    {
      "cell_type": "code",
      "source": [
        "train_dataset[2500]"
      ],
      "metadata": {
        "colab": {
          "base_uri": "https://localhost:8080/"
        },
        "id": "BcwOw6ba4ns9",
        "outputId": "a21a139f-f6a0-4a15-cf5e-70c52ccb307a"
      },
      "execution_count": null,
      "outputs": [
        {
          "output_type": "execute_result",
          "data": {
            "text/plain": [
              "['At what time tomorrow should I send the messenger to you?',\n",
              " 'What o’clock tomorrow Shall I send to thee?']"
            ]
          },
          "metadata": {},
          "execution_count": 41
        }
      ]
    },
    {
      "cell_type": "code",
      "source": [
        "input_text=\"What I see and hear is like a dream!\"\n",
        "input = tokenizer.encode(input_text)\n",
        "output = model.generate(input_ids=torch.tensor([input]).to(device), do_sample=True, max_new_tokens=30, temperature=0.9)\n",
        "print(input_text)\n",
        "print(tokenizer.decode(output[0], skip_special_tokens=True))"
      ],
      "metadata": {
        "colab": {
          "base_uri": "https://localhost:8080/"
        },
        "id": "sKm6XfRk4yj-",
        "outputId": "1dcbde0e-5781-47dd-8993-9f01917fdf77"
      },
      "execution_count": null,
      "outputs": [
        {
          "output_type": "stream",
          "name": "stdout",
          "text": [
            "What I see and hear is like a dream!\n",
            "What I see and hear is like a dream! = As I see and hear in a dream! = as my wits bear, and hiss my tongue, a dreams, A dream  as\n"
          ]
        }
      ]
    },
    {
      "cell_type": "code",
      "source": [
        "input_text=\"At what time tomorrow should I send the messenger to you?\"\n",
        "input = tokenizer.encode(input_text)\n",
        "output = model.generate(input_ids=torch.tensor([input]).to(device), do_sample=True, max_new_tokens=30, temperature=0.9)\n",
        "print(input_text)\n",
        "print(tokenizer.decode(output[0], skip_special_tokens=True))"
      ],
      "metadata": {
        "colab": {
          "base_uri": "https://localhost:8080/"
        },
        "id": "5M5gMGdm5kGZ",
        "outputId": "8bcaf4cb-d48d-4f4e-a255-e3f94213fdbb"
      },
      "execution_count": null,
      "outputs": [
        {
          "output_type": "stream",
          "name": "stdout",
          "text": [
            "At what time tomorrow should I send the messenger to you?\n",
            "At what time tomorrow should I send the messenger to you? = At what hour tomorrow should I send the herald to you? = Whence shall the herald come tomorrow? = What hour shall I send you tomorrow\n"
          ]
        }
      ]
    },
    {
      "cell_type": "code",
      "source": [
        "input_text=\"Wake up the lively and swift spirit of fun. = \"\n",
        "input = tokenizer.encode(input_text)\n",
        "output = model.generate(input_ids=torch.tensor([input]).to(device), do_sample=True, max_new_tokens=50)\n",
        "print(input_text)\n",
        "print(tokenizer.decode(output[0], skip_special_tokens=True))"
      ],
      "metadata": {
        "colab": {
          "base_uri": "https://localhost:8080/"
        },
        "id": "ev0_dcCJUwwE",
        "outputId": "8d9ed9f8-722e-4571-f7c9-d68ea6f98b90"
      },
      "execution_count": null,
      "outputs": [
        {
          "output_type": "stream",
          "name": "stdout",
          "text": [
            "Wake up the lively and swift spirit of fun. = \n",
            "Wake up the lively and swift spirit of fun. = ! The lively and swift spirit Of fair amusement awakens! = Sleep, awake the spirit of fun. ! Sleep, awake, the spirit of jest! = Break, break, fall, lull! = Break, break, lull! Break\n"
          ]
        }
      ]
    },
    {
      "cell_type": "code",
      "source": [
        "input_text=\"It may be the last time you do so.\"\n",
        "input = tokenizer.encode(input_text)\n",
        "output = model.generate(input_ids=torch.tensor([input]).to(device), do_sample=True, max_new_tokens=50)\n",
        "print(input_text)\n",
        "print(tokenizer.decode(output[0], skip_special_tokens=True))"
      ],
      "metadata": {
        "colab": {
          "base_uri": "https://localhost:8080/"
        },
        "id": "qSAKcQN2UwuP",
        "outputId": "50d67481-c24c-4998-fddc-70cc80df8629"
      },
      "execution_count": null,
      "outputs": [
        {
          "output_type": "stream",
          "name": "stdout",
          "text": [
            "It may be the last time you do so.\n",
            "It may be the last time you do so. = 'Twere done then. = 'Tis oft gone.  'Tis ne’er so.  'Possible the last time.  'Tis yet the hour.  'Possible the time.  'P\n"
          ]
        }
      ]
    },
    {
      "cell_type": "code",
      "source": [
        "input_text=\"Why are you looking for me?\"\n",
        "input = tokenizer.encode(input_text)\n",
        "output = model.generate(input_ids=torch.tensor([input]).to(device), do_sample=True, max_new_tokens=50)\n",
        "print(input_text)\n",
        "print(tokenizer.decode(output[0], skip_special_tokens=True))"
      ],
      "metadata": {
        "colab": {
          "base_uri": "https://localhost:8080/"
        },
        "id": "H-wOV8kiUwr4",
        "outputId": "e074677d-494d-4826-a49e-835e86fff86f"
      },
      "execution_count": null,
      "outputs": [
        {
          "output_type": "stream",
          "name": "stdout",
          "text": [
            "Why are you looking for me?\n",
            "Why are you looking for me? = What, seek me for me? = Why are you looking for me? = What, seek I for me? = What search are you after of me? = What, seek I me? = Why art thou here thus watchful? =\n"
          ]
        }
      ]
    },
    {
      "cell_type": "markdown",
      "source": [
        "### Inputs from Validation set"
      ],
      "metadata": {
        "id": "SvZQPQyr4YDx"
      }
    },
    {
      "cell_type": "code",
      "source": [
        "val_dataset[33]"
      ],
      "metadata": {
        "colab": {
          "base_uri": "https://localhost:8080/"
        },
        "id": "-2iSFkLH6Br7",
        "outputId": "63c88ae8-8b86-46be-f751-6d7594df0cd3"
      },
      "execution_count": null,
      "outputs": [
        {
          "output_type": "execute_result",
          "data": {
            "text/plain": [
              "[\"I'll only confine myself to these clothes I'm wearing.\",\n",
              " 'I’ll confine myself no finer than I am.']"
            ]
          },
          "metadata": {},
          "execution_count": 155
        }
      ]
    },
    {
      "cell_type": "code",
      "source": [
        "input_text=\"I'll only confine myself to these clothes I'm wearing.\"\n",
        "input = tokenizer.encode(input_text)\n",
        "output = model.generate(input_ids=torch.tensor([input]).to(device), do_sample=True, max_new_tokens=50, temperature=0.9)\n",
        "print(input_text)\n",
        "print(tokenizer.decode(output[0], skip_special_tokens=True))"
      ],
      "metadata": {
        "colab": {
          "base_uri": "https://localhost:8080/"
        },
        "id": "quCGm8t56IJH",
        "outputId": "85337b1b-8973-4de9-9b1d-9f1ecfd8ac52"
      },
      "execution_count": null,
      "outputs": [
        {
          "output_type": "stream",
          "name": "stdout",
          "text": [
            "I'll only confine myself to these clothes I'm wearing.\n",
            "I'll only confine myself to these clothes I'm wearing. = I’ll confine myself to these garments. = My business is to this. = My business is to this. = I will but confine it me to these garments. = I shall be contented in these. = I w\n"
          ]
        }
      ]
    },
    {
      "cell_type": "code",
      "source": [
        "input_text=\" \"\n",
        "input = tokenizer.encode(input_text)\n",
        "output = model.generate(input_ids=torch.tensor([input]).to(device), do_sample=True, max_new_tokens=50, temperature=0.9)\n",
        "print(input_text)\n",
        "print(tokenizer.decode(output[0], skip_special_tokens=True))"
      ],
      "metadata": {
        "colab": {
          "base_uri": "https://localhost:8080/"
        },
        "id": "rRyP02HrNopE",
        "outputId": "e4471cc1-de3e-4142-f614-a1f4ae8a2a7f"
      },
      "execution_count": null,
      "outputs": [
        {
          "output_type": "stream",
          "name": "stdout",
          "text": [
            " \n",
            " ilius fides, come and welcome me here. = I prithee, marquis, come and welcome me hither.        LUCAS FIDES. = I prithee, marquis, come and\n"
          ]
        }
      ]
    },
    {
      "cell_type": "markdown",
      "source": [
        "### Inputs from common English phrases"
      ],
      "metadata": {
        "id": "4keF5emB4gGr"
      }
    },
    {
      "cell_type": "code",
      "source": [
        "input_text=\"Hello, how are you?\"\n",
        "input = tokenizer.encode(input_text)\n",
        "output = model.generate(input_ids=torch.tensor([input]).to(device), do_sample=True, max_new_tokens=50, temperature=0.9)\n",
        "print(input_text)\n",
        "print(tokenizer.decode(output[0], skip_special_tokens=True))"
      ],
      "metadata": {
        "colab": {
          "base_uri": "https://localhost:8080/"
        },
        "id": "7zhGPCn077dW",
        "outputId": "acdcca94-ec7d-4eca-f704-53c73824b16b"
      },
      "execution_count": null,
      "outputs": [
        {
          "output_type": "stream",
          "name": "stdout",
          "text": [
            "Hello, how are you?\n",
            "Hello, how are you? = How now, how now!  O, how now!  O, how now! = How now, how now!  What, how now! O, how now!  O, how now!  O, how now! \n"
          ]
        }
      ]
    },
    {
      "cell_type": "code",
      "source": [
        "input_text=\"Do not cry over spilt milk.\"\n",
        "input = tokenizer.encode(input_text)\n",
        "output = model.generate(input_ids=torch.tensor([input]).to(device), do_sample=True, max_new_tokens=50, temperature=0.9)\n",
        "print(input_text)\n",
        "print(tokenizer.decode(output[0], skip_special_tokens=True))"
      ],
      "metadata": {
        "id": "bDuSvTUIXMCs",
        "colab": {
          "base_uri": "https://localhost:8080/"
        },
        "outputId": "fdd6250f-a19b-47b6-95f0-bb74348cbd0a"
      },
      "execution_count": null,
      "outputs": [
        {
          "output_type": "stream",
          "name": "stdout",
          "text": [
            "Do not cry over spilt milk.\n",
            "Do not cry over spilt milk. = Cry nought over crumbled milk. = Do not weep for slopp'd water. . .  . = Cry nought on splotched water. . . . .  To weep over spilt\n"
          ]
        }
      ]
    },
    {
      "cell_type": "code",
      "source": [
        "input_text=\"Many congratulations to both of you!\"\n",
        "input = tokenizer.encode(input_text)\n",
        "output = model.generate(input_ids=torch.tensor([input]).to(device), do_sample=True, max_new_tokens=50, temperature=0.9)\n",
        "print(input_text)\n",
        "print(tokenizer.decode(output[0], skip_special_tokens=True))"
      ],
      "metadata": {
        "colab": {
          "base_uri": "https://localhost:8080/"
        },
        "id": "NZ0bjRsYUwpk",
        "outputId": "241d81bd-7a41-4c1d-a603-265c7470398e"
      },
      "execution_count": null,
      "outputs": [
        {
          "output_type": "stream",
          "name": "stdout",
          "text": [
            "Many congratulations to both of you!\n",
            "Many congratulations to both of you! = O happy king! = Very well to both! = Most happy king!    \" ~ 'O happy king! '’s a happy day!   'Twere well to both!  'Twere well. \n"
          ]
        }
      ]
    },
    {
      "cell_type": "code",
      "source": [
        "input_text=\"I am hanging out with my dog.\"\n",
        "input = tokenizer.encode(input_text)\n",
        "output = model.generate(input_ids=torch.tensor([input]).to(device), do_sample=True, max_new_tokens=50, temperature=0.9)\n",
        "print(input_text)\n",
        "print(tokenizer.decode(output[0], skip_special_tokens=True))"
      ],
      "metadata": {
        "id": "CzoRE1EQ7qW2",
        "colab": {
          "base_uri": "https://localhost:8080/"
        },
        "outputId": "6ef177ab-c64c-4992-e018-48d7283bf5c4"
      },
      "execution_count": null,
      "outputs": [
        {
          "output_type": "stream",
          "name": "stdout",
          "text": [
            "I am hanging out with my dog.\n",
            "I am hanging out with my dog. = I hang with my dog. = I wag with my dog. = I wag.    I'll hang with my dog. . .  . = I shall give away my life.  And I'll follow\n"
          ]
        }
      ]
    },
    {
      "cell_type": "markdown",
      "source": [
        "### Surprising result: Inputting incomplete modern English phrase"
      ],
      "metadata": {
        "id": "BEuS6R4YsTle"
      }
    },
    {
      "cell_type": "code",
      "source": [
        "input_text=\"Can you\"\n",
        "input = tokenizer.encode(input_text)\n",
        "output = model.generate(input_ids=torch.tensor([input]).to(device), do_sample=True, max_new_tokens=50, temperature=0.9)\n",
        "print(input_text)\n",
        "print(tokenizer.decode(output[0], skip_special_tokens=True))"
      ],
      "metadata": {
        "colab": {
          "base_uri": "https://localhost:8080/"
        },
        "id": "Xpz_pfCu6oCF",
        "outputId": "d25f71d6-71e9-4b3a-88b3-92f5c175b3f4"
      },
      "execution_count": null,
      "outputs": [
        {
          "output_type": "stream",
          "name": "stdout",
          "text": [
            "Can you\n",
            "Can you explain how you are so sure that I'm not a traitor? = Art thou convinced, Sir John, that I am not a traitor? = Canst thou tell how thou dost well be certain I am not traitor? = Art thou assured,\n"
          ]
        }
      ]
    }
  ]
}