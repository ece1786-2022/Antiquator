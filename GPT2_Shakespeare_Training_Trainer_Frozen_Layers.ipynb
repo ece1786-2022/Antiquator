{
  "cells": [
    {
      "cell_type": "markdown",
      "source": [
        "## This code allows freezing some layers\n",
        "\n",
        "#### We tried freezing some layers, but the unfrozen model works best, so train with num_frozen_layers=0"
      ],
      "metadata": {
        "id": "uqkRiY52oLWv"
      }
    },
    {
      "cell_type": "code",
      "execution_count": null,
      "metadata": {
        "id": "MrZuXwdYczGr"
      },
      "outputs": [],
      "source": [
        "# WandB Authorization Key: 33478b17ae12d300fd1949107f96bf4ab4ff75f9"
      ]
    },
    {
      "cell_type": "code",
      "execution_count": null,
      "metadata": {
        "colab": {
          "base_uri": "https://localhost:8080/"
        },
        "id": "KQeNYeYvEh1c",
        "outputId": "7b6c394b-e9f8-4333-c683-c3b98f553378"
      },
      "outputs": [
        {
          "output_type": "stream",
          "name": "stdout",
          "text": [
            "Looking in indexes: https://pypi.org/simple, https://us-python.pkg.dev/colab-wheels/public/simple/\n",
            "Collecting transformers\n",
            "  Downloading transformers-4.25.1-py3-none-any.whl (5.8 MB)\n",
            "\u001b[K     |████████████████████████████████| 5.8 MB 13.2 MB/s \n",
            "\u001b[?25hRequirement already satisfied: packaging>=20.0 in /usr/local/lib/python3.7/dist-packages (from transformers) (21.3)\n",
            "Requirement already satisfied: importlib-metadata in /usr/local/lib/python3.7/dist-packages (from transformers) (4.13.0)\n",
            "Requirement already satisfied: requests in /usr/local/lib/python3.7/dist-packages (from transformers) (2.23.0)\n",
            "Requirement already satisfied: numpy>=1.17 in /usr/local/lib/python3.7/dist-packages (from transformers) (1.21.6)\n",
            "Requirement already satisfied: regex!=2019.12.17 in /usr/local/lib/python3.7/dist-packages (from transformers) (2022.6.2)\n",
            "Requirement already satisfied: tqdm>=4.27 in /usr/local/lib/python3.7/dist-packages (from transformers) (4.64.1)\n",
            "Requirement already satisfied: filelock in /usr/local/lib/python3.7/dist-packages (from transformers) (3.8.0)\n",
            "Collecting huggingface-hub<1.0,>=0.10.0\n",
            "  Downloading huggingface_hub-0.11.1-py3-none-any.whl (182 kB)\n",
            "\u001b[K     |████████████████████████████████| 182 kB 58.4 MB/s \n",
            "\u001b[?25hCollecting tokenizers!=0.11.3,<0.14,>=0.11.1\n",
            "  Downloading tokenizers-0.13.2-cp37-cp37m-manylinux_2_17_x86_64.manylinux2014_x86_64.whl (7.6 MB)\n",
            "\u001b[K     |████████████████████████████████| 7.6 MB 46.1 MB/s \n",
            "\u001b[?25hRequirement already satisfied: pyyaml>=5.1 in /usr/local/lib/python3.7/dist-packages (from transformers) (6.0)\n",
            "Requirement already satisfied: typing-extensions>=3.7.4.3 in /usr/local/lib/python3.7/dist-packages (from huggingface-hub<1.0,>=0.10.0->transformers) (4.1.1)\n",
            "Requirement already satisfied: pyparsing!=3.0.5,>=2.0.2 in /usr/local/lib/python3.7/dist-packages (from packaging>=20.0->transformers) (3.0.9)\n",
            "Requirement already satisfied: zipp>=0.5 in /usr/local/lib/python3.7/dist-packages (from importlib-metadata->transformers) (3.10.0)\n",
            "Requirement already satisfied: urllib3!=1.25.0,!=1.25.1,<1.26,>=1.21.1 in /usr/local/lib/python3.7/dist-packages (from requests->transformers) (1.24.3)\n",
            "Requirement already satisfied: idna<3,>=2.5 in /usr/local/lib/python3.7/dist-packages (from requests->transformers) (2.10)\n",
            "Requirement already satisfied: chardet<4,>=3.0.2 in /usr/local/lib/python3.7/dist-packages (from requests->transformers) (3.0.4)\n",
            "Requirement already satisfied: certifi>=2017.4.17 in /usr/local/lib/python3.7/dist-packages (from requests->transformers) (2022.9.24)\n",
            "Installing collected packages: tokenizers, huggingface-hub, transformers\n",
            "Successfully installed huggingface-hub-0.11.1 tokenizers-0.13.2 transformers-4.25.1\n",
            "Looking in indexes: https://pypi.org/simple, https://us-python.pkg.dev/colab-wheels/public/simple/\n",
            "Collecting wandb\n",
            "  Downloading wandb-0.13.5-py2.py3-none-any.whl (1.9 MB)\n",
            "\u001b[K     |████████████████████████████████| 1.9 MB 15.4 MB/s \n",
            "\u001b[?25hCollecting shortuuid>=0.5.0\n",
            "  Downloading shortuuid-1.0.11-py3-none-any.whl (10 kB)\n",
            "Requirement already satisfied: protobuf!=4.0.*,!=4.21.0,<5,>=3.12.0 in /usr/local/lib/python3.7/dist-packages (from wandb) (3.19.6)\n",
            "Collecting sentry-sdk>=1.0.0\n",
            "  Downloading sentry_sdk-1.11.1-py2.py3-none-any.whl (168 kB)\n",
            "\u001b[K     |████████████████████████████████| 168 kB 60.1 MB/s \n",
            "\u001b[?25hRequirement already satisfied: PyYAML in /usr/local/lib/python3.7/dist-packages (from wandb) (6.0)\n",
            "Requirement already satisfied: psutil>=5.0.0 in /usr/local/lib/python3.7/dist-packages (from wandb) (5.4.8)\n",
            "Collecting pathtools\n",
            "  Downloading pathtools-0.1.2.tar.gz (11 kB)\n",
            "Collecting setproctitle\n",
            "  Downloading setproctitle-1.3.2-cp37-cp37m-manylinux_2_5_x86_64.manylinux1_x86_64.manylinux_2_17_x86_64.manylinux2014_x86_64.whl (30 kB)\n",
            "Collecting GitPython>=1.0.0\n",
            "  Downloading GitPython-3.1.29-py3-none-any.whl (182 kB)\n",
            "\u001b[K     |████████████████████████████████| 182 kB 69.9 MB/s \n",
            "\u001b[?25hRequirement already satisfied: six>=1.13.0 in /usr/local/lib/python3.7/dist-packages (from wandb) (1.15.0)\n",
            "Requirement already satisfied: setuptools in /usr/local/lib/python3.7/dist-packages (from wandb) (57.4.0)\n",
            "Collecting docker-pycreds>=0.4.0\n",
            "  Downloading docker_pycreds-0.4.0-py2.py3-none-any.whl (9.0 kB)\n",
            "Requirement already satisfied: requests<3,>=2.0.0 in /usr/local/lib/python3.7/dist-packages (from wandb) (2.23.0)\n",
            "Requirement already satisfied: promise<3,>=2.0 in /usr/local/lib/python3.7/dist-packages (from wandb) (2.3)\n",
            "Requirement already satisfied: Click!=8.0.0,>=7.0 in /usr/local/lib/python3.7/dist-packages (from wandb) (7.1.2)\n",
            "Requirement already satisfied: typing-extensions>=3.7.4.3 in /usr/local/lib/python3.7/dist-packages (from GitPython>=1.0.0->wandb) (4.1.1)\n",
            "Collecting gitdb<5,>=4.0.1\n",
            "  Downloading gitdb-4.0.10-py3-none-any.whl (62 kB)\n",
            "\u001b[K     |████████████████████████████████| 62 kB 1.7 MB/s \n",
            "\u001b[?25hCollecting smmap<6,>=3.0.1\n",
            "  Downloading smmap-5.0.0-py3-none-any.whl (24 kB)\n",
            "Requirement already satisfied: chardet<4,>=3.0.2 in /usr/local/lib/python3.7/dist-packages (from requests<3,>=2.0.0->wandb) (3.0.4)\n",
            "Requirement already satisfied: urllib3!=1.25.0,!=1.25.1,<1.26,>=1.21.1 in /usr/local/lib/python3.7/dist-packages (from requests<3,>=2.0.0->wandb) (1.24.3)\n",
            "Requirement already satisfied: idna<3,>=2.5 in /usr/local/lib/python3.7/dist-packages (from requests<3,>=2.0.0->wandb) (2.10)\n",
            "Requirement already satisfied: certifi>=2017.4.17 in /usr/local/lib/python3.7/dist-packages (from requests<3,>=2.0.0->wandb) (2022.9.24)\n",
            "Collecting sentry-sdk>=1.0.0\n",
            "  Downloading sentry_sdk-1.11.0-py2.py3-none-any.whl (168 kB)\n",
            "\u001b[K     |████████████████████████████████| 168 kB 62.5 MB/s \n",
            "\u001b[?25h  Downloading sentry_sdk-1.10.1-py2.py3-none-any.whl (166 kB)\n",
            "\u001b[K     |████████████████████████████████| 166 kB 62.6 MB/s \n",
            "\u001b[?25h  Downloading sentry_sdk-1.10.0-py2.py3-none-any.whl (166 kB)\n",
            "\u001b[K     |████████████████████████████████| 166 kB 74.9 MB/s \n",
            "\u001b[?25h  Downloading sentry_sdk-1.9.10-py2.py3-none-any.whl (162 kB)\n",
            "\u001b[K     |████████████████████████████████| 162 kB 70.6 MB/s \n",
            "\u001b[?25h  Downloading sentry_sdk-1.9.9-py2.py3-none-any.whl (162 kB)\n",
            "\u001b[K     |████████████████████████████████| 162 kB 41.0 MB/s \n",
            "\u001b[?25h  Downloading sentry_sdk-1.9.8-py2.py3-none-any.whl (158 kB)\n",
            "\u001b[K     |████████████████████████████████| 158 kB 74.7 MB/s \n",
            "\u001b[?25h  Downloading sentry_sdk-1.9.7-py2.py3-none-any.whl (157 kB)\n",
            "\u001b[K     |████████████████████████████████| 157 kB 59.3 MB/s \n",
            "\u001b[?25h  Downloading sentry_sdk-1.9.6-py2.py3-none-any.whl (157 kB)\n",
            "\u001b[K     |████████████████████████████████| 157 kB 71.7 MB/s \n",
            "\u001b[?25h  Downloading sentry_sdk-1.9.5-py2.py3-none-any.whl (157 kB)\n",
            "\u001b[K     |████████████████████████████████| 157 kB 75.1 MB/s \n",
            "\u001b[?25h  Downloading sentry_sdk-1.9.4-py2.py3-none-any.whl (157 kB)\n",
            "\u001b[K     |████████████████████████████████| 157 kB 72.7 MB/s \n",
            "\u001b[?25h  Downloading sentry_sdk-1.9.3-py2.py3-none-any.whl (157 kB)\n",
            "\u001b[K     |████████████████████████████████| 157 kB 64.4 MB/s \n",
            "\u001b[?25h  Downloading sentry_sdk-1.9.2-py2.py3-none-any.whl (157 kB)\n",
            "\u001b[K     |████████████████████████████████| 157 kB 75.8 MB/s \n",
            "\u001b[?25h  Downloading sentry_sdk-1.9.1-py2.py3-none-any.whl (157 kB)\n",
            "\u001b[K     |████████████████████████████████| 157 kB 71.0 MB/s \n",
            "\u001b[?25h  Downloading sentry_sdk-1.9.0-py2.py3-none-any.whl (156 kB)\n",
            "\u001b[K     |████████████████████████████████| 156 kB 72.1 MB/s \n",
            "\u001b[?25hBuilding wheels for collected packages: pathtools\n",
            "  Building wheel for pathtools (setup.py) ... \u001b[?25l\u001b[?25hdone\n",
            "  Created wheel for pathtools: filename=pathtools-0.1.2-py3-none-any.whl size=8806 sha256=b35efd5c15288722412dd1dbf8864c7d6f84ca90b7c1f74ceac415e6f77f063e\n",
            "  Stored in directory: /root/.cache/pip/wheels/3e/31/09/fa59cef12cdcfecc627b3d24273699f390e71828921b2cbba2\n",
            "Successfully built pathtools\n",
            "Installing collected packages: smmap, gitdb, shortuuid, setproctitle, sentry-sdk, pathtools, GitPython, docker-pycreds, wandb\n",
            "Successfully installed GitPython-3.1.29 docker-pycreds-0.4.0 gitdb-4.0.10 pathtools-0.1.2 sentry-sdk-1.9.0 setproctitle-1.3.2 shortuuid-1.0.11 smmap-5.0.0 wandb-0.13.5\n"
          ]
        }
      ],
      "source": [
        "!pip install transformers\n",
        "!pip install wandb --upgrade"
      ]
    },
    {
      "cell_type": "markdown",
      "source": [
        "### Login to save output to Weights & Biases"
      ],
      "metadata": {
        "id": "030Az9TgocnF"
      }
    },
    {
      "cell_type": "code",
      "execution_count": null,
      "metadata": {
        "colab": {
          "base_uri": "https://localhost:8080/"
        },
        "id": "5Iwbx2JA8P1F",
        "outputId": "da9aaa65-338b-45a3-a7ed-4600b2c74119"
      },
      "outputs": [
        {
          "output_type": "stream",
          "name": "stdout",
          "text": [
            "\u001b[34m\u001b[1mwandb\u001b[0m: Logging into wandb.ai. (Learn how to deploy a W&B server locally: https://wandb.me/wandb-server)\n",
            "\u001b[34m\u001b[1mwandb\u001b[0m: You can find your API key in your browser here: https://wandb.ai/authorize\n",
            "\u001b[34m\u001b[1mwandb\u001b[0m: Paste an API key from your profile and hit enter, or press ctrl+c to quit: \n",
            "\u001b[34m\u001b[1mwandb\u001b[0m: Appending key for api.wandb.ai to your netrc file: /root/.netrc\n"
          ]
        }
      ],
      "source": [
        "!wandb login"
      ]
    },
    {
      "cell_type": "code",
      "execution_count": null,
      "metadata": {
        "id": "UhUCKWEYE2gE"
      },
      "outputs": [],
      "source": [
        "from transformers import DataCollatorForLanguageModeling\n",
        "from transformers import GPT2Tokenizer, GPT2LMHeadModel\n",
        "from transformers import Trainer, TrainingArguments\n",
        "\n",
        "import torch\n",
        "import torch.nn as nn\n",
        "import torch.nn.functional as F\n",
        "\n",
        "from torchtext.data.metrics import bleu_score\n",
        "\n",
        "from torch.utils.data import Dataset, DataLoader\n",
        "\n",
        "import numpy as np\n",
        "import pandas as pd\n",
        "import matplotlib.pyplot as plt\n",
        "from sklearn.model_selection import train_test_split\n",
        "import random\n",
        "\n",
        "from tqdm.auto import tqdm\n",
        "\n",
        "import wandb"
      ]
    },
    {
      "cell_type": "code",
      "execution_count": null,
      "metadata": {
        "id": "2BGuW7GiuqjJ"
      },
      "outputs": [],
      "source": [
        "device = 'cuda' if torch.cuda.is_available() else 'cpu'"
      ]
    },
    {
      "cell_type": "markdown",
      "metadata": {
        "id": "6Vj2Cg9KBAhw"
      },
      "source": [
        "### Set Hyperparameters"
      ]
    },
    {
      "cell_type": "code",
      "execution_count": null,
      "metadata": {
        "id": "OVZLrqNEBASH"
      },
      "outputs": [],
      "source": [
        "config = dict(num_frozen_layers=0,\n",
        "              learning_rate=5e-5,\n",
        "              num_epochs=5,\n",
        "              batch_size=8,\n",
        "              model='gpt2-medium')  #config['model'] can be any model from the GPT2 family"
      ]
    },
    {
      "cell_type": "markdown",
      "metadata": {
        "id": "thIWwDokAday"
      },
      "source": [
        "### Import Model\n",
        "#### This works for both GPT2 and GPT2 medium"
      ]
    },
    {
      "cell_type": "code",
      "execution_count": null,
      "metadata": {
        "id": "SO69IDwbF5hA",
        "colab": {
          "base_uri": "https://localhost:8080/",
          "height": 145,
          "referenced_widgets": [
            "236f300544b84090b1a0cd3219ea2a8a",
            "8834e16fa5634211847dc80a6fb07f64",
            "945116b147ef45f9bb3493f2c9bc189f",
            "ed8ce2853a7a4fcdb5ad0dd912304e75",
            "7324c7c3330f436ca54961ab74e55821",
            "c3a5bec19fd24082a7ed249056dbb429",
            "169aaeb885414cee9c4b803c17daca0c",
            "997d4f0317444d76ac133d9a1fe87b1c",
            "81a46678ff06483ab9d1f00224289b02",
            "cbdcc576cac24ca086d6f5b9287ed6e4",
            "ea6e5a76987b429fb878e67767f47294",
            "63d7d3d10bd742cca3b0a7c98e93c477",
            "a6ba8014e77f403c889101d46b47e10a",
            "154f21afc3114166b5efd0e76a397d2c",
            "14c4907ca7c74ac3abdec864faf2f474",
            "3ff35115c4944005adbe1c5428d01856",
            "9ef3de1eb2ba4066b617631cb58d4119",
            "00367fd967d04d228fd21068a3e7cc40",
            "90e42afddbe84c58b407df9c10d2214b",
            "9e3c3a5a802c43c694e81551990eef6a",
            "c40fdf098b594a3fa1f1a6a023517059",
            "392d6ce5e9c24fd28a1abc6ab13dc704",
            "94349e3d928d468f9e54b12ef1edfe18",
            "8fad97f9ae1d459a96eb62331a82b427",
            "ff03f881399441a1979c77d61c406fd4",
            "760229eaff9143cdb8254d0120979c3e",
            "022772d0abe34aff894c1d033fcb77df",
            "cdf8ad1c8f094c44b4563fbb12ce99f1",
            "938800f4043e45a4b1095bb897b872a0",
            "54430de75b6445dbb12adba460f0daf3",
            "97e6f3b4f1b6481394440ab3e028bc32",
            "5899660c851742c486d319e3c29624e6",
            "6b9b5bb4454848279766d2e40f9c6935",
            "808354f7fdc14104a86ea73c6a9aec71",
            "9d568272583c4a008de4c36ded9f0a43",
            "dc3f31b883bf474982410713f9b481ce",
            "73b11d13f9dc48a4a38bd7652dccc79d",
            "26789b034b2744138e885a09dea7cca2",
            "439428f2c718471687dcd57092dcb45b",
            "4b61887c21c14a9da3d06c3fd41cc0ab",
            "b2a0ff35e5fa40e68f13416b08ddc36b",
            "867c5ab121614c598c7b7eb7d3e0491a",
            "bc842f1f2f834229a7b1ff15d0da4db0",
            "12a1e06a95ad4d2eb33900157a99cf4d"
          ]
        },
        "outputId": "0cf5d84a-24b2-463a-f6f4-f5f62dcdd631"
      },
      "outputs": [
        {
          "output_type": "display_data",
          "data": {
            "text/plain": [
              "Downloading:   0%|          | 0.00/1.04M [00:00<?, ?B/s]"
            ],
            "application/vnd.jupyter.widget-view+json": {
              "version_major": 2,
              "version_minor": 0,
              "model_id": "236f300544b84090b1a0cd3219ea2a8a"
            }
          },
          "metadata": {}
        },
        {
          "output_type": "display_data",
          "data": {
            "text/plain": [
              "Downloading:   0%|          | 0.00/456k [00:00<?, ?B/s]"
            ],
            "application/vnd.jupyter.widget-view+json": {
              "version_major": 2,
              "version_minor": 0,
              "model_id": "63d7d3d10bd742cca3b0a7c98e93c477"
            }
          },
          "metadata": {}
        },
        {
          "output_type": "display_data",
          "data": {
            "text/plain": [
              "Downloading:   0%|          | 0.00/718 [00:00<?, ?B/s]"
            ],
            "application/vnd.jupyter.widget-view+json": {
              "version_major": 2,
              "version_minor": 0,
              "model_id": "94349e3d928d468f9e54b12ef1edfe18"
            }
          },
          "metadata": {}
        },
        {
          "output_type": "display_data",
          "data": {
            "text/plain": [
              "Downloading:   0%|          | 0.00/1.52G [00:00<?, ?B/s]"
            ],
            "application/vnd.jupyter.widget-view+json": {
              "version_major": 2,
              "version_minor": 0,
              "model_id": "808354f7fdc14104a86ea73c6a9aec71"
            }
          },
          "metadata": {}
        }
      ],
      "source": [
        "tokenizer = GPT2Tokenizer.from_pretrained(config['model'])\n",
        "model = GPT2LMHeadModel.from_pretrained(config['model'], pad_token_id=tokenizer.eos_token_id)\n",
        "\n",
        "tokenizer.pad_token = tokenizer.eos_token"
      ]
    },
    {
      "cell_type": "code",
      "execution_count": null,
      "metadata": {
        "id": "5Oxz1-SQuRrk"
      },
      "outputs": [],
      "source": [
        "model = model.to(device)"
      ]
    },
    {
      "cell_type": "code",
      "source": [
        "for name, param in model.named_parameters():\n",
        "    print(name)"
      ],
      "metadata": {
        "colab": {
          "base_uri": "https://localhost:8080/"
        },
        "id": "4ti6YJaujSFw",
        "outputId": "7b2a01d3-5288-448d-c54e-6f0345f33a6e"
      },
      "execution_count": null,
      "outputs": [
        {
          "output_type": "stream",
          "name": "stdout",
          "text": [
            "transformer.wte.weight\n",
            "transformer.wpe.weight\n",
            "transformer.h.0.ln_1.weight\n",
            "transformer.h.0.ln_1.bias\n",
            "transformer.h.0.attn.c_attn.weight\n",
            "transformer.h.0.attn.c_attn.bias\n",
            "transformer.h.0.attn.c_proj.weight\n",
            "transformer.h.0.attn.c_proj.bias\n",
            "transformer.h.0.ln_2.weight\n",
            "transformer.h.0.ln_2.bias\n",
            "transformer.h.0.mlp.c_fc.weight\n",
            "transformer.h.0.mlp.c_fc.bias\n",
            "transformer.h.0.mlp.c_proj.weight\n",
            "transformer.h.0.mlp.c_proj.bias\n",
            "transformer.h.1.ln_1.weight\n",
            "transformer.h.1.ln_1.bias\n",
            "transformer.h.1.attn.c_attn.weight\n",
            "transformer.h.1.attn.c_attn.bias\n",
            "transformer.h.1.attn.c_proj.weight\n",
            "transformer.h.1.attn.c_proj.bias\n",
            "transformer.h.1.ln_2.weight\n",
            "transformer.h.1.ln_2.bias\n",
            "transformer.h.1.mlp.c_fc.weight\n",
            "transformer.h.1.mlp.c_fc.bias\n",
            "transformer.h.1.mlp.c_proj.weight\n",
            "transformer.h.1.mlp.c_proj.bias\n",
            "transformer.h.2.ln_1.weight\n",
            "transformer.h.2.ln_1.bias\n",
            "transformer.h.2.attn.c_attn.weight\n",
            "transformer.h.2.attn.c_attn.bias\n",
            "transformer.h.2.attn.c_proj.weight\n",
            "transformer.h.2.attn.c_proj.bias\n",
            "transformer.h.2.ln_2.weight\n",
            "transformer.h.2.ln_2.bias\n",
            "transformer.h.2.mlp.c_fc.weight\n",
            "transformer.h.2.mlp.c_fc.bias\n",
            "transformer.h.2.mlp.c_proj.weight\n",
            "transformer.h.2.mlp.c_proj.bias\n",
            "transformer.h.3.ln_1.weight\n",
            "transformer.h.3.ln_1.bias\n",
            "transformer.h.3.attn.c_attn.weight\n",
            "transformer.h.3.attn.c_attn.bias\n",
            "transformer.h.3.attn.c_proj.weight\n",
            "transformer.h.3.attn.c_proj.bias\n",
            "transformer.h.3.ln_2.weight\n",
            "transformer.h.3.ln_2.bias\n",
            "transformer.h.3.mlp.c_fc.weight\n",
            "transformer.h.3.mlp.c_fc.bias\n",
            "transformer.h.3.mlp.c_proj.weight\n",
            "transformer.h.3.mlp.c_proj.bias\n",
            "transformer.h.4.ln_1.weight\n",
            "transformer.h.4.ln_1.bias\n",
            "transformer.h.4.attn.c_attn.weight\n",
            "transformer.h.4.attn.c_attn.bias\n",
            "transformer.h.4.attn.c_proj.weight\n",
            "transformer.h.4.attn.c_proj.bias\n",
            "transformer.h.4.ln_2.weight\n",
            "transformer.h.4.ln_2.bias\n",
            "transformer.h.4.mlp.c_fc.weight\n",
            "transformer.h.4.mlp.c_fc.bias\n",
            "transformer.h.4.mlp.c_proj.weight\n",
            "transformer.h.4.mlp.c_proj.bias\n",
            "transformer.h.5.ln_1.weight\n",
            "transformer.h.5.ln_1.bias\n",
            "transformer.h.5.attn.c_attn.weight\n",
            "transformer.h.5.attn.c_attn.bias\n",
            "transformer.h.5.attn.c_proj.weight\n",
            "transformer.h.5.attn.c_proj.bias\n",
            "transformer.h.5.ln_2.weight\n",
            "transformer.h.5.ln_2.bias\n",
            "transformer.h.5.mlp.c_fc.weight\n",
            "transformer.h.5.mlp.c_fc.bias\n",
            "transformer.h.5.mlp.c_proj.weight\n",
            "transformer.h.5.mlp.c_proj.bias\n",
            "transformer.h.6.ln_1.weight\n",
            "transformer.h.6.ln_1.bias\n",
            "transformer.h.6.attn.c_attn.weight\n",
            "transformer.h.6.attn.c_attn.bias\n",
            "transformer.h.6.attn.c_proj.weight\n",
            "transformer.h.6.attn.c_proj.bias\n",
            "transformer.h.6.ln_2.weight\n",
            "transformer.h.6.ln_2.bias\n",
            "transformer.h.6.mlp.c_fc.weight\n",
            "transformer.h.6.mlp.c_fc.bias\n",
            "transformer.h.6.mlp.c_proj.weight\n",
            "transformer.h.6.mlp.c_proj.bias\n",
            "transformer.h.7.ln_1.weight\n",
            "transformer.h.7.ln_1.bias\n",
            "transformer.h.7.attn.c_attn.weight\n",
            "transformer.h.7.attn.c_attn.bias\n",
            "transformer.h.7.attn.c_proj.weight\n",
            "transformer.h.7.attn.c_proj.bias\n",
            "transformer.h.7.ln_2.weight\n",
            "transformer.h.7.ln_2.bias\n",
            "transformer.h.7.mlp.c_fc.weight\n",
            "transformer.h.7.mlp.c_fc.bias\n",
            "transformer.h.7.mlp.c_proj.weight\n",
            "transformer.h.7.mlp.c_proj.bias\n",
            "transformer.h.8.ln_1.weight\n",
            "transformer.h.8.ln_1.bias\n",
            "transformer.h.8.attn.c_attn.weight\n",
            "transformer.h.8.attn.c_attn.bias\n",
            "transformer.h.8.attn.c_proj.weight\n",
            "transformer.h.8.attn.c_proj.bias\n",
            "transformer.h.8.ln_2.weight\n",
            "transformer.h.8.ln_2.bias\n",
            "transformer.h.8.mlp.c_fc.weight\n",
            "transformer.h.8.mlp.c_fc.bias\n",
            "transformer.h.8.mlp.c_proj.weight\n",
            "transformer.h.8.mlp.c_proj.bias\n",
            "transformer.h.9.ln_1.weight\n",
            "transformer.h.9.ln_1.bias\n",
            "transformer.h.9.attn.c_attn.weight\n",
            "transformer.h.9.attn.c_attn.bias\n",
            "transformer.h.9.attn.c_proj.weight\n",
            "transformer.h.9.attn.c_proj.bias\n",
            "transformer.h.9.ln_2.weight\n",
            "transformer.h.9.ln_2.bias\n",
            "transformer.h.9.mlp.c_fc.weight\n",
            "transformer.h.9.mlp.c_fc.bias\n",
            "transformer.h.9.mlp.c_proj.weight\n",
            "transformer.h.9.mlp.c_proj.bias\n",
            "transformer.h.10.ln_1.weight\n",
            "transformer.h.10.ln_1.bias\n",
            "transformer.h.10.attn.c_attn.weight\n",
            "transformer.h.10.attn.c_attn.bias\n",
            "transformer.h.10.attn.c_proj.weight\n",
            "transformer.h.10.attn.c_proj.bias\n",
            "transformer.h.10.ln_2.weight\n",
            "transformer.h.10.ln_2.bias\n",
            "transformer.h.10.mlp.c_fc.weight\n",
            "transformer.h.10.mlp.c_fc.bias\n",
            "transformer.h.10.mlp.c_proj.weight\n",
            "transformer.h.10.mlp.c_proj.bias\n",
            "transformer.h.11.ln_1.weight\n",
            "transformer.h.11.ln_1.bias\n",
            "transformer.h.11.attn.c_attn.weight\n",
            "transformer.h.11.attn.c_attn.bias\n",
            "transformer.h.11.attn.c_proj.weight\n",
            "transformer.h.11.attn.c_proj.bias\n",
            "transformer.h.11.ln_2.weight\n",
            "transformer.h.11.ln_2.bias\n",
            "transformer.h.11.mlp.c_fc.weight\n",
            "transformer.h.11.mlp.c_fc.bias\n",
            "transformer.h.11.mlp.c_proj.weight\n",
            "transformer.h.11.mlp.c_proj.bias\n",
            "transformer.h.12.ln_1.weight\n",
            "transformer.h.12.ln_1.bias\n",
            "transformer.h.12.attn.c_attn.weight\n",
            "transformer.h.12.attn.c_attn.bias\n",
            "transformer.h.12.attn.c_proj.weight\n",
            "transformer.h.12.attn.c_proj.bias\n",
            "transformer.h.12.ln_2.weight\n",
            "transformer.h.12.ln_2.bias\n",
            "transformer.h.12.mlp.c_fc.weight\n",
            "transformer.h.12.mlp.c_fc.bias\n",
            "transformer.h.12.mlp.c_proj.weight\n",
            "transformer.h.12.mlp.c_proj.bias\n",
            "transformer.h.13.ln_1.weight\n",
            "transformer.h.13.ln_1.bias\n",
            "transformer.h.13.attn.c_attn.weight\n",
            "transformer.h.13.attn.c_attn.bias\n",
            "transformer.h.13.attn.c_proj.weight\n",
            "transformer.h.13.attn.c_proj.bias\n",
            "transformer.h.13.ln_2.weight\n",
            "transformer.h.13.ln_2.bias\n",
            "transformer.h.13.mlp.c_fc.weight\n",
            "transformer.h.13.mlp.c_fc.bias\n",
            "transformer.h.13.mlp.c_proj.weight\n",
            "transformer.h.13.mlp.c_proj.bias\n",
            "transformer.h.14.ln_1.weight\n",
            "transformer.h.14.ln_1.bias\n",
            "transformer.h.14.attn.c_attn.weight\n",
            "transformer.h.14.attn.c_attn.bias\n",
            "transformer.h.14.attn.c_proj.weight\n",
            "transformer.h.14.attn.c_proj.bias\n",
            "transformer.h.14.ln_2.weight\n",
            "transformer.h.14.ln_2.bias\n",
            "transformer.h.14.mlp.c_fc.weight\n",
            "transformer.h.14.mlp.c_fc.bias\n",
            "transformer.h.14.mlp.c_proj.weight\n",
            "transformer.h.14.mlp.c_proj.bias\n",
            "transformer.h.15.ln_1.weight\n",
            "transformer.h.15.ln_1.bias\n",
            "transformer.h.15.attn.c_attn.weight\n",
            "transformer.h.15.attn.c_attn.bias\n",
            "transformer.h.15.attn.c_proj.weight\n",
            "transformer.h.15.attn.c_proj.bias\n",
            "transformer.h.15.ln_2.weight\n",
            "transformer.h.15.ln_2.bias\n",
            "transformer.h.15.mlp.c_fc.weight\n",
            "transformer.h.15.mlp.c_fc.bias\n",
            "transformer.h.15.mlp.c_proj.weight\n",
            "transformer.h.15.mlp.c_proj.bias\n",
            "transformer.h.16.ln_1.weight\n",
            "transformer.h.16.ln_1.bias\n",
            "transformer.h.16.attn.c_attn.weight\n",
            "transformer.h.16.attn.c_attn.bias\n",
            "transformer.h.16.attn.c_proj.weight\n",
            "transformer.h.16.attn.c_proj.bias\n",
            "transformer.h.16.ln_2.weight\n",
            "transformer.h.16.ln_2.bias\n",
            "transformer.h.16.mlp.c_fc.weight\n",
            "transformer.h.16.mlp.c_fc.bias\n",
            "transformer.h.16.mlp.c_proj.weight\n",
            "transformer.h.16.mlp.c_proj.bias\n",
            "transformer.h.17.ln_1.weight\n",
            "transformer.h.17.ln_1.bias\n",
            "transformer.h.17.attn.c_attn.weight\n",
            "transformer.h.17.attn.c_attn.bias\n",
            "transformer.h.17.attn.c_proj.weight\n",
            "transformer.h.17.attn.c_proj.bias\n",
            "transformer.h.17.ln_2.weight\n",
            "transformer.h.17.ln_2.bias\n",
            "transformer.h.17.mlp.c_fc.weight\n",
            "transformer.h.17.mlp.c_fc.bias\n",
            "transformer.h.17.mlp.c_proj.weight\n",
            "transformer.h.17.mlp.c_proj.bias\n",
            "transformer.h.18.ln_1.weight\n",
            "transformer.h.18.ln_1.bias\n",
            "transformer.h.18.attn.c_attn.weight\n",
            "transformer.h.18.attn.c_attn.bias\n",
            "transformer.h.18.attn.c_proj.weight\n",
            "transformer.h.18.attn.c_proj.bias\n",
            "transformer.h.18.ln_2.weight\n",
            "transformer.h.18.ln_2.bias\n",
            "transformer.h.18.mlp.c_fc.weight\n",
            "transformer.h.18.mlp.c_fc.bias\n",
            "transformer.h.18.mlp.c_proj.weight\n",
            "transformer.h.18.mlp.c_proj.bias\n",
            "transformer.h.19.ln_1.weight\n",
            "transformer.h.19.ln_1.bias\n",
            "transformer.h.19.attn.c_attn.weight\n",
            "transformer.h.19.attn.c_attn.bias\n",
            "transformer.h.19.attn.c_proj.weight\n",
            "transformer.h.19.attn.c_proj.bias\n",
            "transformer.h.19.ln_2.weight\n",
            "transformer.h.19.ln_2.bias\n",
            "transformer.h.19.mlp.c_fc.weight\n",
            "transformer.h.19.mlp.c_fc.bias\n",
            "transformer.h.19.mlp.c_proj.weight\n",
            "transformer.h.19.mlp.c_proj.bias\n",
            "transformer.h.20.ln_1.weight\n",
            "transformer.h.20.ln_1.bias\n",
            "transformer.h.20.attn.c_attn.weight\n",
            "transformer.h.20.attn.c_attn.bias\n",
            "transformer.h.20.attn.c_proj.weight\n",
            "transformer.h.20.attn.c_proj.bias\n",
            "transformer.h.20.ln_2.weight\n",
            "transformer.h.20.ln_2.bias\n",
            "transformer.h.20.mlp.c_fc.weight\n",
            "transformer.h.20.mlp.c_fc.bias\n",
            "transformer.h.20.mlp.c_proj.weight\n",
            "transformer.h.20.mlp.c_proj.bias\n",
            "transformer.h.21.ln_1.weight\n",
            "transformer.h.21.ln_1.bias\n",
            "transformer.h.21.attn.c_attn.weight\n",
            "transformer.h.21.attn.c_attn.bias\n",
            "transformer.h.21.attn.c_proj.weight\n",
            "transformer.h.21.attn.c_proj.bias\n",
            "transformer.h.21.ln_2.weight\n",
            "transformer.h.21.ln_2.bias\n",
            "transformer.h.21.mlp.c_fc.weight\n",
            "transformer.h.21.mlp.c_fc.bias\n",
            "transformer.h.21.mlp.c_proj.weight\n",
            "transformer.h.21.mlp.c_proj.bias\n",
            "transformer.h.22.ln_1.weight\n",
            "transformer.h.22.ln_1.bias\n",
            "transformer.h.22.attn.c_attn.weight\n",
            "transformer.h.22.attn.c_attn.bias\n",
            "transformer.h.22.attn.c_proj.weight\n",
            "transformer.h.22.attn.c_proj.bias\n",
            "transformer.h.22.ln_2.weight\n",
            "transformer.h.22.ln_2.bias\n",
            "transformer.h.22.mlp.c_fc.weight\n",
            "transformer.h.22.mlp.c_fc.bias\n",
            "transformer.h.22.mlp.c_proj.weight\n",
            "transformer.h.22.mlp.c_proj.bias\n",
            "transformer.h.23.ln_1.weight\n",
            "transformer.h.23.ln_1.bias\n",
            "transformer.h.23.attn.c_attn.weight\n",
            "transformer.h.23.attn.c_attn.bias\n",
            "transformer.h.23.attn.c_proj.weight\n",
            "transformer.h.23.attn.c_proj.bias\n",
            "transformer.h.23.ln_2.weight\n",
            "transformer.h.23.ln_2.bias\n",
            "transformer.h.23.mlp.c_fc.weight\n",
            "transformer.h.23.mlp.c_fc.bias\n",
            "transformer.h.23.mlp.c_proj.weight\n",
            "transformer.h.23.mlp.c_proj.bias\n",
            "transformer.ln_f.weight\n",
            "transformer.ln_f.bias\n"
          ]
        }
      ]
    },
    {
      "cell_type": "code",
      "source": [],
      "metadata": {
        "id": "IOwir1_DjS9M"
      },
      "execution_count": null,
      "outputs": []
    },
    {
      "cell_type": "markdown",
      "metadata": {
        "id": "wVFu0h3XAfpf"
      },
      "source": [
        "### Freeze Layers"
      ]
    },
    {
      "cell_type": "code",
      "execution_count": null,
      "metadata": {
        "id": "3Uo6MmP5afem"
      },
      "outputs": [],
      "source": [
        "def create_frozen_model(model, num_frozen_layers):\n",
        "\n",
        "    layers = ['transformer.h.1','transformer.h.2','transformer.h.3','transformer.h.4','transformer.h.5','transformer.h.6','transformer.h.7','transformer.h.8','transformer.h.9','transformer.h.10','transformer.h.11','transformer.ln_f']\n",
        "\n",
        "    if num_frozen_layers > len(layers):\n",
        "        print(\"Error: Number of layers to freeze should be less than or equal to number of layers in the model:\",len(layers))\n",
        "        return\n",
        "\n",
        "    keep_layers = layers[num_frozen_layers:]\n",
        "    for name, param in model.named_parameters():\n",
        "        param.requires_grad = False   #setting all gradients to false\n",
        "\n",
        "    for layer_name in keep_layers:\n",
        "        for name, param in model.named_parameters():\n",
        "            if name.startswith(layer_name):\n",
        "                param.requires_grad = True\n",
        "\n",
        "    return"
      ]
    },
    {
      "cell_type": "code",
      "execution_count": null,
      "metadata": {
        "id": "HW9gh1dD_6mV"
      },
      "outputs": [],
      "source": [
        "create_frozen_model(model, num_frozen_layers=config['num_frozen_layers'])"
      ]
    },
    {
      "cell_type": "code",
      "source": [
        "for name, param in model.named_parameters():\n",
        "    if name.startswith('transformer.h.1'):\n",
        "        print(name)\n",
        "        print(param.requires_grad)"
      ],
      "metadata": {
        "colab": {
          "base_uri": "https://localhost:8080/"
        },
        "id": "0D0yOl7269_L",
        "outputId": "4e6daaf1-b1cb-48a9-d336-45426a05a1be"
      },
      "execution_count": null,
      "outputs": [
        {
          "output_type": "stream",
          "name": "stdout",
          "text": [
            "transformer.h.1.ln_1.weight\n",
            "True\n",
            "transformer.h.1.ln_1.bias\n",
            "True\n",
            "transformer.h.1.attn.c_attn.weight\n",
            "True\n",
            "transformer.h.1.attn.c_attn.bias\n",
            "True\n",
            "transformer.h.1.attn.c_proj.weight\n",
            "True\n",
            "transformer.h.1.attn.c_proj.bias\n",
            "True\n",
            "transformer.h.1.ln_2.weight\n",
            "True\n",
            "transformer.h.1.ln_2.bias\n",
            "True\n",
            "transformer.h.1.mlp.c_fc.weight\n",
            "True\n",
            "transformer.h.1.mlp.c_fc.bias\n",
            "True\n",
            "transformer.h.1.mlp.c_proj.weight\n",
            "True\n",
            "transformer.h.1.mlp.c_proj.bias\n",
            "True\n",
            "transformer.h.10.ln_1.weight\n",
            "True\n",
            "transformer.h.10.ln_1.bias\n",
            "True\n",
            "transformer.h.10.attn.c_attn.weight\n",
            "True\n",
            "transformer.h.10.attn.c_attn.bias\n",
            "True\n",
            "transformer.h.10.attn.c_proj.weight\n",
            "True\n",
            "transformer.h.10.attn.c_proj.bias\n",
            "True\n",
            "transformer.h.10.ln_2.weight\n",
            "True\n",
            "transformer.h.10.ln_2.bias\n",
            "True\n",
            "transformer.h.10.mlp.c_fc.weight\n",
            "True\n",
            "transformer.h.10.mlp.c_fc.bias\n",
            "True\n",
            "transformer.h.10.mlp.c_proj.weight\n",
            "True\n",
            "transformer.h.10.mlp.c_proj.bias\n",
            "True\n",
            "transformer.h.11.ln_1.weight\n",
            "True\n",
            "transformer.h.11.ln_1.bias\n",
            "True\n",
            "transformer.h.11.attn.c_attn.weight\n",
            "True\n",
            "transformer.h.11.attn.c_attn.bias\n",
            "True\n",
            "transformer.h.11.attn.c_proj.weight\n",
            "True\n",
            "transformer.h.11.attn.c_proj.bias\n",
            "True\n",
            "transformer.h.11.ln_2.weight\n",
            "True\n",
            "transformer.h.11.ln_2.bias\n",
            "True\n",
            "transformer.h.11.mlp.c_fc.weight\n",
            "True\n",
            "transformer.h.11.mlp.c_fc.bias\n",
            "True\n",
            "transformer.h.11.mlp.c_proj.weight\n",
            "True\n",
            "transformer.h.11.mlp.c_proj.bias\n",
            "True\n",
            "transformer.h.12.ln_1.weight\n",
            "True\n",
            "transformer.h.12.ln_1.bias\n",
            "True\n",
            "transformer.h.12.attn.c_attn.weight\n",
            "True\n",
            "transformer.h.12.attn.c_attn.bias\n",
            "True\n",
            "transformer.h.12.attn.c_proj.weight\n",
            "True\n",
            "transformer.h.12.attn.c_proj.bias\n",
            "True\n",
            "transformer.h.12.ln_2.weight\n",
            "True\n",
            "transformer.h.12.ln_2.bias\n",
            "True\n",
            "transformer.h.12.mlp.c_fc.weight\n",
            "True\n",
            "transformer.h.12.mlp.c_fc.bias\n",
            "True\n",
            "transformer.h.12.mlp.c_proj.weight\n",
            "True\n",
            "transformer.h.12.mlp.c_proj.bias\n",
            "True\n",
            "transformer.h.13.ln_1.weight\n",
            "True\n",
            "transformer.h.13.ln_1.bias\n",
            "True\n",
            "transformer.h.13.attn.c_attn.weight\n",
            "True\n",
            "transformer.h.13.attn.c_attn.bias\n",
            "True\n",
            "transformer.h.13.attn.c_proj.weight\n",
            "True\n",
            "transformer.h.13.attn.c_proj.bias\n",
            "True\n",
            "transformer.h.13.ln_2.weight\n",
            "True\n",
            "transformer.h.13.ln_2.bias\n",
            "True\n",
            "transformer.h.13.mlp.c_fc.weight\n",
            "True\n",
            "transformer.h.13.mlp.c_fc.bias\n",
            "True\n",
            "transformer.h.13.mlp.c_proj.weight\n",
            "True\n",
            "transformer.h.13.mlp.c_proj.bias\n",
            "True\n",
            "transformer.h.14.ln_1.weight\n",
            "True\n",
            "transformer.h.14.ln_1.bias\n",
            "True\n",
            "transformer.h.14.attn.c_attn.weight\n",
            "True\n",
            "transformer.h.14.attn.c_attn.bias\n",
            "True\n",
            "transformer.h.14.attn.c_proj.weight\n",
            "True\n",
            "transformer.h.14.attn.c_proj.bias\n",
            "True\n",
            "transformer.h.14.ln_2.weight\n",
            "True\n",
            "transformer.h.14.ln_2.bias\n",
            "True\n",
            "transformer.h.14.mlp.c_fc.weight\n",
            "True\n",
            "transformer.h.14.mlp.c_fc.bias\n",
            "True\n",
            "transformer.h.14.mlp.c_proj.weight\n",
            "True\n",
            "transformer.h.14.mlp.c_proj.bias\n",
            "True\n",
            "transformer.h.15.ln_1.weight\n",
            "True\n",
            "transformer.h.15.ln_1.bias\n",
            "True\n",
            "transformer.h.15.attn.c_attn.weight\n",
            "True\n",
            "transformer.h.15.attn.c_attn.bias\n",
            "True\n",
            "transformer.h.15.attn.c_proj.weight\n",
            "True\n",
            "transformer.h.15.attn.c_proj.bias\n",
            "True\n",
            "transformer.h.15.ln_2.weight\n",
            "True\n",
            "transformer.h.15.ln_2.bias\n",
            "True\n",
            "transformer.h.15.mlp.c_fc.weight\n",
            "True\n",
            "transformer.h.15.mlp.c_fc.bias\n",
            "True\n",
            "transformer.h.15.mlp.c_proj.weight\n",
            "True\n",
            "transformer.h.15.mlp.c_proj.bias\n",
            "True\n",
            "transformer.h.16.ln_1.weight\n",
            "True\n",
            "transformer.h.16.ln_1.bias\n",
            "True\n",
            "transformer.h.16.attn.c_attn.weight\n",
            "True\n",
            "transformer.h.16.attn.c_attn.bias\n",
            "True\n",
            "transformer.h.16.attn.c_proj.weight\n",
            "True\n",
            "transformer.h.16.attn.c_proj.bias\n",
            "True\n",
            "transformer.h.16.ln_2.weight\n",
            "True\n",
            "transformer.h.16.ln_2.bias\n",
            "True\n",
            "transformer.h.16.mlp.c_fc.weight\n",
            "True\n",
            "transformer.h.16.mlp.c_fc.bias\n",
            "True\n",
            "transformer.h.16.mlp.c_proj.weight\n",
            "True\n",
            "transformer.h.16.mlp.c_proj.bias\n",
            "True\n",
            "transformer.h.17.ln_1.weight\n",
            "True\n",
            "transformer.h.17.ln_1.bias\n",
            "True\n",
            "transformer.h.17.attn.c_attn.weight\n",
            "True\n",
            "transformer.h.17.attn.c_attn.bias\n",
            "True\n",
            "transformer.h.17.attn.c_proj.weight\n",
            "True\n",
            "transformer.h.17.attn.c_proj.bias\n",
            "True\n",
            "transformer.h.17.ln_2.weight\n",
            "True\n",
            "transformer.h.17.ln_2.bias\n",
            "True\n",
            "transformer.h.17.mlp.c_fc.weight\n",
            "True\n",
            "transformer.h.17.mlp.c_fc.bias\n",
            "True\n",
            "transformer.h.17.mlp.c_proj.weight\n",
            "True\n",
            "transformer.h.17.mlp.c_proj.bias\n",
            "True\n",
            "transformer.h.18.ln_1.weight\n",
            "True\n",
            "transformer.h.18.ln_1.bias\n",
            "True\n",
            "transformer.h.18.attn.c_attn.weight\n",
            "True\n",
            "transformer.h.18.attn.c_attn.bias\n",
            "True\n",
            "transformer.h.18.attn.c_proj.weight\n",
            "True\n",
            "transformer.h.18.attn.c_proj.bias\n",
            "True\n",
            "transformer.h.18.ln_2.weight\n",
            "True\n",
            "transformer.h.18.ln_2.bias\n",
            "True\n",
            "transformer.h.18.mlp.c_fc.weight\n",
            "True\n",
            "transformer.h.18.mlp.c_fc.bias\n",
            "True\n",
            "transformer.h.18.mlp.c_proj.weight\n",
            "True\n",
            "transformer.h.18.mlp.c_proj.bias\n",
            "True\n",
            "transformer.h.19.ln_1.weight\n",
            "True\n",
            "transformer.h.19.ln_1.bias\n",
            "True\n",
            "transformer.h.19.attn.c_attn.weight\n",
            "True\n",
            "transformer.h.19.attn.c_attn.bias\n",
            "True\n",
            "transformer.h.19.attn.c_proj.weight\n",
            "True\n",
            "transformer.h.19.attn.c_proj.bias\n",
            "True\n",
            "transformer.h.19.ln_2.weight\n",
            "True\n",
            "transformer.h.19.ln_2.bias\n",
            "True\n",
            "transformer.h.19.mlp.c_fc.weight\n",
            "True\n",
            "transformer.h.19.mlp.c_fc.bias\n",
            "True\n",
            "transformer.h.19.mlp.c_proj.weight\n",
            "True\n",
            "transformer.h.19.mlp.c_proj.bias\n",
            "True\n"
          ]
        }
      ]
    },
    {
      "cell_type": "markdown",
      "metadata": {
        "id": "yP-cKuCoAi9O"
      },
      "source": [
        "### Create Dataset"
      ]
    },
    {
      "cell_type": "code",
      "execution_count": null,
      "metadata": {
        "id": "Fl_S9eTGFpeL"
      },
      "outputs": [],
      "source": [
        "data_file_open = open('/content/data_f.txt', 'r', encoding='UTF-8')\n",
        "label_file_open = open('/content/label_f.txt', 'r', encoding='UTF-8')\n",
        "data_lines=data_file_open.readlines()\n",
        "label_lines = label_file_open.readlines()\n",
        "\n",
        "input_dataset = []\n",
        "output_dataset = []\n",
        "dataset = []\n",
        "\n",
        "\n",
        "for item in data_lines:\n",
        "    input_dataset.append(item.strip())\n",
        "for item in label_lines:\n",
        "    output_dataset.append(item.strip())"
      ]
    },
    {
      "cell_type": "code",
      "execution_count": null,
      "metadata": {
        "colab": {
          "base_uri": "https://localhost:8080/"
        },
        "id": "FJoLXs--dRlz",
        "outputId": "1887e1f6-e6c7-400e-a0ef-46ede33f82a8"
      },
      "outputs": [
        {
          "output_type": "stream",
          "name": "stdout",
          "text": [
            "42535\n",
            "42535\n"
          ]
        }
      ],
      "source": [
        "print(len(input_dataset))\n",
        "print(len(output_dataset))"
      ]
    },
    {
      "cell_type": "code",
      "execution_count": null,
      "metadata": {
        "id": "vfpDVmFY8nuj"
      },
      "outputs": [],
      "source": [
        "dataset = []\n",
        "for i in range(len(input_dataset)):\n",
        "    data = input_dataset[i]+' = '+output_dataset[i]\n",
        "    dataset.append(data)"
      ]
    },
    {
      "cell_type": "code",
      "execution_count": null,
      "metadata": {
        "id": "yZV0l6dxHqHu"
      },
      "outputs": [],
      "source": [
        "train_dataset, val_dataset = train_test_split(dataset, test_size=0.2)"
      ]
    },
    {
      "cell_type": "code",
      "execution_count": null,
      "metadata": {
        "colab": {
          "base_uri": "https://localhost:8080/"
        },
        "id": "LX98fI6MH1qz",
        "outputId": "559a972d-cd50-4399-de72-4a250c94e700"
      },
      "outputs": [
        {
          "output_type": "stream",
          "name": "stdout",
          "text": [
            "34028\n",
            "8507\n"
          ]
        }
      ],
      "source": [
        "print(len(train_dataset))\n",
        "print(len(val_dataset))"
      ]
    },
    {
      "cell_type": "code",
      "execution_count": null,
      "metadata": {
        "id": "RXY6y4yvAwsg"
      },
      "outputs": [],
      "source": [
        "tokenized_dataset_train = []\n",
        "\n",
        "tokenized_dataset_val = []\n",
        "\n",
        "\n",
        "for data in train_dataset:\n",
        "    tokenized_dataset_train.append(tokenizer.encode(data))\n",
        "\n",
        "for data in val_dataset:\n",
        "    tokenized_dataset_val.append(tokenizer.encode(data))"
      ]
    },
    {
      "cell_type": "code",
      "execution_count": null,
      "metadata": {
        "id": "cMLFjONt_tD9"
      },
      "outputs": [],
      "source": [
        "data_collator = DataCollatorForLanguageModeling(tokenizer=tokenizer, mlm=False)"
      ]
    },
    {
      "cell_type": "markdown",
      "metadata": {
        "id": "RyOoIKhpdslL"
      },
      "source": [
        "### Initialize W&B to save logs"
      ]
    },
    {
      "cell_type": "code",
      "execution_count": null,
      "metadata": {
        "id": "KFNO14M3eNI8"
      },
      "outputs": [],
      "source": [
        "run_name = config['model']+'_'+str(config['num_frozen_layers'])+'frozen_'+str(config['learning_rate'])+'lr_'+str(config['num_epochs'])+'epochs'"
      ]
    },
    {
      "cell_type": "code",
      "execution_count": null,
      "metadata": {
        "colab": {
          "base_uri": "https://localhost:8080/",
          "height": 35
        },
        "id": "vJNgpu1UfK07",
        "outputId": "6f2e148f-effc-4082-ec5c-72a55f8bc25e"
      },
      "outputs": [
        {
          "output_type": "execute_result",
          "data": {
            "text/plain": [
              "'gpt2_0frozen_5e-05lr_5epochs'"
            ],
            "application/vnd.google.colaboratory.intrinsic+json": {
              "type": "string"
            }
          },
          "metadata": {},
          "execution_count": 20
        }
      ],
      "source": [
        "run_name"
      ]
    },
    {
      "cell_type": "code",
      "execution_count": null,
      "metadata": {
        "colab": {
          "base_uri": "https://localhost:8080/",
          "height": 161
        },
        "id": "cN-4dG13afbw",
        "outputId": "85dde836-2b90-4e3a-af8e-24e3e051ff20"
      },
      "outputs": [
        {
          "output_type": "stream",
          "name": "stderr",
          "text": [
            "ERROR:wandb.jupyter:Failed to detect the name of this notebook, you can set it manually with the WANDB_NOTEBOOK_NAME environment variable to enable code saving.\n",
            "\u001b[34m\u001b[1mwandb\u001b[0m: Currently logged in as: \u001b[33mrohan-ajwani\u001b[0m (\u001b[33mantiquator\u001b[0m). Use \u001b[1m`wandb login --relogin`\u001b[0m to force relogin\n"
          ]
        },
        {
          "output_type": "display_data",
          "data": {
            "text/plain": [
              "<IPython.core.display.HTML object>"
            ],
            "text/html": [
              "Tracking run with wandb version 0.13.5"
            ]
          },
          "metadata": {}
        },
        {
          "output_type": "display_data",
          "data": {
            "text/plain": [
              "<IPython.core.display.HTML object>"
            ],
            "text/html": [
              "Run data is saved locally in <code>/content/wandb/run-20221130_235659-1343zrdp</code>"
            ]
          },
          "metadata": {}
        },
        {
          "output_type": "display_data",
          "data": {
            "text/plain": [
              "<IPython.core.display.HTML object>"
            ],
            "text/html": [
              "Syncing run <strong><a href=\"https://wandb.ai/antiquator/Antiquator_Trial_new/runs/1343zrdp\" target=\"_blank\">frosty-firefly-2</a></strong> to <a href=\"https://wandb.ai/antiquator/Antiquator_Trial_new\" target=\"_blank\">Weights & Biases</a> (<a href=\"https://wandb.me/run\" target=\"_blank\">docs</a>)<br/>"
            ]
          },
          "metadata": {}
        },
        {
          "output_type": "stream",
          "name": "stderr",
          "text": [
            "\u001b[34m\u001b[1mwandb\u001b[0m: \u001b[33mWARNING\u001b[0m Calling wandb.run.save without any arguments is deprecated.Changes to attributes are automatically persisted.\n"
          ]
        },
        {
          "output_type": "execute_result",
          "data": {
            "text/plain": [
              "True"
            ]
          },
          "metadata": {},
          "execution_count": 19
        }
      ],
      "source": [
        "wandb.init(\n",
        "  project=\"Antiquator_Trial_new\",\n",
        "  config=config\n",
        ")\n",
        "\n",
        "wandb.run.name = run_name\n",
        "\n",
        "wandb.run.save()"
      ]
    },
    {
      "cell_type": "code",
      "execution_count": null,
      "metadata": {
        "colab": {
          "base_uri": "https://localhost:8080/",
          "height": 35
        },
        "id": "CNOLFRuBfqLM",
        "outputId": "29991e03-aef3-41fd-dbcd-9da59a83900b"
      },
      "outputs": [
        {
          "output_type": "execute_result",
          "data": {
            "text/plain": [
              "'gpt2_10frozen_5e-05lr_5epochs'"
            ],
            "application/vnd.google.colaboratory.intrinsic+json": {
              "type": "string"
            }
          },
          "metadata": {},
          "execution_count": 20
        }
      ],
      "source": [
        "wandb.run.name"
      ]
    },
    {
      "cell_type": "markdown",
      "metadata": {
        "id": "7Zujp-ICdypR"
      },
      "source": [
        "### Create Trainer"
      ]
    },
    {
      "cell_type": "code",
      "execution_count": null,
      "metadata": {
        "id": "zZs4gSJVBkHH"
      },
      "outputs": [],
      "source": [
        "training_args = TrainingArguments(\n",
        "          output_dir='/content/train_2',\n",
        "          learning_rate=config['learning_rate'],\n",
        "          per_device_train_batch_size=config['batch_size'],\n",
        "          per_device_eval_batch_size=config['batch_size'],\n",
        "          num_train_epochs=config['num_epochs'],\n",
        "          evaluation_strategy = \"steps\",\n",
        "          eval_steps=1000,\n",
        "          save_strategy='epoch',\n",
        "          #report_to=\"wandb\"\n",
        "      )"
      ]
    },
    {
      "cell_type": "code",
      "execution_count": null,
      "metadata": {
        "id": "oAdciSSsB2oG"
      },
      "outputs": [],
      "source": [
        "trainer = Trainer(\n",
        "          model=model,\n",
        "          args=training_args,\n",
        "          train_dataset=tokenized_dataset_train,\n",
        "          eval_dataset=tokenized_dataset_val,\n",
        "          data_collator=data_collator)"
      ]
    },
    {
      "cell_type": "markdown",
      "metadata": {
        "id": "QotAwEP0d2DJ"
      },
      "source": [
        "### Training the model"
      ]
    },
    {
      "cell_type": "code",
      "execution_count": null,
      "metadata": {
        "colab": {
          "base_uri": "https://localhost:8080/",
          "height": 716
        },
        "id": "fKrLdMTqCe6W",
        "outputId": "c4f15eb5-d99d-4ece-84e8-f354d4255369"
      },
      "outputs": [
        {
          "output_type": "stream",
          "name": "stderr",
          "text": [
            "/usr/local/lib/python3.7/dist-packages/transformers/optimization.py:310: FutureWarning: This implementation of AdamW is deprecated and will be removed in a future version. Use the PyTorch implementation torch.optim.AdamW instead, or set `no_deprecation_warning=True` to disable this warning\n",
            "  FutureWarning,\n",
            "***** Running training *****\n",
            "  Num examples = 34028\n",
            "  Num Epochs = 5\n",
            "  Instantaneous batch size per device = 8\n",
            "  Total train batch size (w. parallel, distributed & accumulation) = 8\n",
            "  Gradient Accumulation steps = 1\n",
            "  Total optimization steps = 21270\n",
            "  Number of trainable parameters = 354823168\n",
            "Automatic Weights & Biases logging enabled, to disable set os.environ[\"WANDB_DISABLED\"] = \"true\"\n",
            "ERROR:wandb.jupyter:Failed to detect the name of this notebook, you can set it manually with the WANDB_NOTEBOOK_NAME environment variable to enable code saving.\n"
          ]
        },
        {
          "output_type": "display_data",
          "data": {
            "text/plain": [
              "<IPython.core.display.Javascript object>"
            ],
            "application/javascript": [
              "\n",
              "        window._wandbApiKey = new Promise((resolve, reject) => {\n",
              "            function loadScript(url) {\n",
              "            return new Promise(function(resolve, reject) {\n",
              "                let newScript = document.createElement(\"script\");\n",
              "                newScript.onerror = reject;\n",
              "                newScript.onload = resolve;\n",
              "                document.body.appendChild(newScript);\n",
              "                newScript.src = url;\n",
              "            });\n",
              "            }\n",
              "            loadScript(\"https://cdn.jsdelivr.net/npm/postmate/build/postmate.min.js\").then(() => {\n",
              "            const iframe = document.createElement('iframe')\n",
              "            iframe.style.cssText = \"width:0;height:0;border:none\"\n",
              "            document.body.appendChild(iframe)\n",
              "            const handshake = new Postmate({\n",
              "                container: iframe,\n",
              "                url: 'https://wandb.ai/authorize'\n",
              "            });\n",
              "            const timeout = setTimeout(() => reject(\"Couldn't auto authenticate\"), 5000)\n",
              "            handshake.then(function(child) {\n",
              "                child.on('authorize', data => {\n",
              "                    clearTimeout(timeout)\n",
              "                    resolve(data)\n",
              "                });\n",
              "            });\n",
              "            })\n",
              "        });\n",
              "    "
            ]
          },
          "metadata": {}
        },
        {
          "output_type": "stream",
          "name": "stderr",
          "text": [
            "\u001b[34m\u001b[1mwandb\u001b[0m: Appending key for api.wandb.ai to your netrc file: /root/.netrc\n"
          ]
        },
        {
          "output_type": "display_data",
          "data": {
            "text/plain": [
              "<IPython.core.display.HTML object>"
            ],
            "text/html": [
              "Tracking run with wandb version 0.13.5"
            ]
          },
          "metadata": {}
        },
        {
          "output_type": "display_data",
          "data": {
            "text/plain": [
              "<IPython.core.display.HTML object>"
            ],
            "text/html": [
              "Run data is saved locally in <code>/content/wandb/run-20221203_153019-34klowux</code>"
            ]
          },
          "metadata": {}
        },
        {
          "output_type": "display_data",
          "data": {
            "text/plain": [
              "<IPython.core.display.HTML object>"
            ],
            "text/html": [
              "Syncing run <strong><a href=\"https://wandb.ai/antiquator/huggingface/runs/34klowux\" target=\"_blank\">/content/train_2</a></strong> to <a href=\"https://wandb.ai/antiquator/huggingface\" target=\"_blank\">Weights & Biases</a> (<a href=\"https://wandb.me/run\" target=\"_blank\">docs</a>)<br/>"
            ]
          },
          "metadata": {}
        },
        {
          "output_type": "display_data",
          "data": {
            "text/plain": [
              "<IPython.core.display.HTML object>"
            ],
            "text/html": [
              "\n",
              "    <div>\n",
              "      \n",
              "      <progress value='9' max='21270' style='width:300px; height:20px; vertical-align: middle;'></progress>\n",
              "      [    9/21270 00:02 < 2:29:42, 2.37 it/s, Epoch 0.00/5]\n",
              "    </div>\n",
              "    <table border=\"1\" class=\"dataframe\">\n",
              "  <thead>\n",
              " <tr style=\"text-align: left;\">\n",
              "      <th>Step</th>\n",
              "      <th>Training Loss</th>\n",
              "      <th>Validation Loss</th>\n",
              "    </tr>\n",
              "  </thead>\n",
              "  <tbody>\n",
              "  </tbody>\n",
              "</table><p>"
            ]
          },
          "metadata": {}
        },
        {
          "output_type": "error",
          "ename": "KeyboardInterrupt",
          "evalue": "ignored",
          "traceback": [
            "\u001b[0;31m---------------------------------------------------------------------------\u001b[0m",
            "\u001b[0;31mKeyboardInterrupt\u001b[0m                         Traceback (most recent call last)",
            "\u001b[0;32m<ipython-input-18-3435b262f1ae>\u001b[0m in \u001b[0;36m<module>\u001b[0;34m\u001b[0m\n\u001b[0;32m----> 1\u001b[0;31m \u001b[0mtrainer\u001b[0m\u001b[0;34m.\u001b[0m\u001b[0mtrain\u001b[0m\u001b[0;34m(\u001b[0m\u001b[0;34m)\u001b[0m\u001b[0;34m\u001b[0m\u001b[0;34m\u001b[0m\u001b[0m\n\u001b[0m",
            "\u001b[0;32m/usr/local/lib/python3.7/dist-packages/transformers/trainer.py\u001b[0m in \u001b[0;36mtrain\u001b[0;34m(self, resume_from_checkpoint, trial, ignore_keys_for_eval, **kwargs)\u001b[0m\n\u001b[1;32m   1529\u001b[0m             \u001b[0mresume_from_checkpoint\u001b[0m\u001b[0;34m=\u001b[0m\u001b[0mresume_from_checkpoint\u001b[0m\u001b[0;34m,\u001b[0m\u001b[0;34m\u001b[0m\u001b[0;34m\u001b[0m\u001b[0m\n\u001b[1;32m   1530\u001b[0m             \u001b[0mtrial\u001b[0m\u001b[0;34m=\u001b[0m\u001b[0mtrial\u001b[0m\u001b[0;34m,\u001b[0m\u001b[0;34m\u001b[0m\u001b[0;34m\u001b[0m\u001b[0m\n\u001b[0;32m-> 1531\u001b[0;31m             \u001b[0mignore_keys_for_eval\u001b[0m\u001b[0;34m=\u001b[0m\u001b[0mignore_keys_for_eval\u001b[0m\u001b[0;34m,\u001b[0m\u001b[0;34m\u001b[0m\u001b[0;34m\u001b[0m\u001b[0m\n\u001b[0m\u001b[1;32m   1532\u001b[0m         )\n\u001b[1;32m   1533\u001b[0m \u001b[0;34m\u001b[0m\u001b[0m\n",
            "\u001b[0;32m/usr/local/lib/python3.7/dist-packages/transformers/trainer.py\u001b[0m in \u001b[0;36m_inner_training_loop\u001b[0;34m(self, batch_size, args, resume_from_checkpoint, trial, ignore_keys_for_eval)\u001b[0m\n\u001b[1;32m   1778\u001b[0m                     \u001b[0margs\u001b[0m\u001b[0;34m.\u001b[0m\u001b[0mlogging_nan_inf_filter\u001b[0m\u001b[0;34m\u001b[0m\u001b[0;34m\u001b[0m\u001b[0m\n\u001b[1;32m   1779\u001b[0m                     \u001b[0;32mand\u001b[0m \u001b[0;32mnot\u001b[0m \u001b[0mis_torch_tpu_available\u001b[0m\u001b[0;34m(\u001b[0m\u001b[0;34m)\u001b[0m\u001b[0;34m\u001b[0m\u001b[0;34m\u001b[0m\u001b[0m\n\u001b[0;32m-> 1780\u001b[0;31m                     \u001b[0;32mand\u001b[0m \u001b[0;34m(\u001b[0m\u001b[0mtorch\u001b[0m\u001b[0;34m.\u001b[0m\u001b[0misnan\u001b[0m\u001b[0;34m(\u001b[0m\u001b[0mtr_loss_step\u001b[0m\u001b[0;34m)\u001b[0m \u001b[0;32mor\u001b[0m \u001b[0mtorch\u001b[0m\u001b[0;34m.\u001b[0m\u001b[0misinf\u001b[0m\u001b[0;34m(\u001b[0m\u001b[0mtr_loss_step\u001b[0m\u001b[0;34m)\u001b[0m\u001b[0;34m)\u001b[0m\u001b[0;34m\u001b[0m\u001b[0;34m\u001b[0m\u001b[0m\n\u001b[0m\u001b[1;32m   1781\u001b[0m                 ):\n\u001b[1;32m   1782\u001b[0m                     \u001b[0;31m# if loss is nan or inf simply add the average of previous logged losses\u001b[0m\u001b[0;34m\u001b[0m\u001b[0;34m\u001b[0m\u001b[0;34m\u001b[0m\u001b[0m\n",
            "\u001b[0;31mKeyboardInterrupt\u001b[0m: "
          ]
        }
      ],
      "source": [
        "trainer.train()"
      ]
    },
    {
      "cell_type": "code",
      "execution_count": null,
      "metadata": {
        "colab": {
          "background_save": true
        },
        "id": "7xrKQmfEChmm",
        "outputId": "87950368-b67a-47b1-a6c5-7d6249dc64d6"
      },
      "outputs": [
        {
          "name": "stderr",
          "output_type": "stream",
          "text": [
            "Saving model checkpoint to /content/train_2\n",
            "Configuration saved in /content/train_2/config.json\n",
            "Model weights saved in /content/train_2/pytorch_model.bin\n"
          ]
        }
      ],
      "source": [
        "trainer.save_model()"
      ]
    },
    {
      "cell_type": "code",
      "execution_count": null,
      "metadata": {
        "colab": {
          "background_save": true
        },
        "id": "1uHfaNMA8nse",
        "outputId": "4bee5e96-4885-4742-c756-8c4f0d0e987c"
      },
      "outputs": [
        {
          "name": "stderr",
          "output_type": "stream",
          "text": [
            "loading configuration file /content/train_2/config.json\n",
            "Model config GPT2Config {\n",
            "  \"_name_or_path\": \"gpt2\",\n",
            "  \"activation_function\": \"gelu_new\",\n",
            "  \"architectures\": [\n",
            "    \"GPT2LMHeadModel\"\n",
            "  ],\n",
            "  \"attn_pdrop\": 0.1,\n",
            "  \"bos_token_id\": 50256,\n",
            "  \"embd_pdrop\": 0.1,\n",
            "  \"eos_token_id\": 50256,\n",
            "  \"initializer_range\": 0.02,\n",
            "  \"layer_norm_epsilon\": 1e-05,\n",
            "  \"model_type\": \"gpt2\",\n",
            "  \"n_ctx\": 1024,\n",
            "  \"n_embd\": 768,\n",
            "  \"n_head\": 12,\n",
            "  \"n_inner\": null,\n",
            "  \"n_layer\": 12,\n",
            "  \"n_positions\": 1024,\n",
            "  \"pad_token_id\": 50256,\n",
            "  \"reorder_and_upcast_attn\": false,\n",
            "  \"resid_pdrop\": 0.1,\n",
            "  \"scale_attn_by_inverse_layer_idx\": false,\n",
            "  \"scale_attn_weights\": true,\n",
            "  \"summary_activation\": null,\n",
            "  \"summary_first_dropout\": 0.1,\n",
            "  \"summary_proj_to_labels\": true,\n",
            "  \"summary_type\": \"cls_index\",\n",
            "  \"summary_use_proj\": true,\n",
            "  \"task_specific_params\": {\n",
            "    \"text-generation\": {\n",
            "      \"do_sample\": true,\n",
            "      \"max_length\": 50\n",
            "    }\n",
            "  },\n",
            "  \"torch_dtype\": \"float32\",\n",
            "  \"transformers_version\": \"4.24.0\",\n",
            "  \"use_cache\": true,\n",
            "  \"vocab_size\": 50257\n",
            "}\n",
            "\n",
            "loading weights file /content/train_2/pytorch_model.bin\n",
            "All model checkpoint weights were used when initializing GPT2LMHeadModel.\n",
            "\n",
            "All the weights of GPT2LMHeadModel were initialized from the model checkpoint at /content/train_2.\n",
            "If your task is similar to the task the model of the checkpoint was trained on, you can already use GPT2LMHeadModel for predictions without further training.\n"
          ]
        }
      ],
      "source": [
        "model = GPT2LMHeadModel.from_pretrained('/content/train_2')"
      ]
    },
    {
      "cell_type": "markdown",
      "metadata": {
        "id": "QlLt6EeEnzrb"
      },
      "source": [
        "### Saving Model to Drive"
      ]
    },
    {
      "cell_type": "code",
      "execution_count": null,
      "metadata": {
        "id": "CB94Jydln4OV"
      },
      "outputs": [],
      "source": [
        "from google.colab import drive\n",
        "\n",
        "import shutil\n",
        "\n",
        "drive.mount('/content/drive')"
      ]
    },
    {
      "cell_type": "code",
      "execution_count": null,
      "metadata": {
        "id": "07jSWmoSnOYm"
      },
      "outputs": [],
      "source": [
        "save_name = '/content/'+run_name+'.pt'"
      ]
    },
    {
      "cell_type": "code",
      "execution_count": null,
      "metadata": {
        "id": "9C8nqBl_nXiI"
      },
      "outputs": [],
      "source": [
        "save_name"
      ]
    },
    {
      "cell_type": "code",
      "execution_count": null,
      "metadata": {
        "id": "x2pRMrXsnLX5"
      },
      "outputs": [],
      "source": [
        "torch.save(model.state_dict(), save_name)"
      ]
    },
    {
      "cell_type": "code",
      "execution_count": null,
      "metadata": {
        "id": "eCWpeEDInvyp"
      },
      "outputs": [],
      "source": [
        "shutil.copy(save_name,\"/content/drive/MyDrive/ECE1786_Project/Models\")"
      ]
    }
  ],
  "metadata": {
    "accelerator": "GPU",
    "colab": {
      "provenance": []
    },
    "gpuClass": "standard",
    "kernelspec": {
      "display_name": "Python 3",
      "name": "python3"
    },
    "language_info": {
      "name": "python"
    },
    "widgets": {
      "application/vnd.jupyter.widget-state+json": {
        "236f300544b84090b1a0cd3219ea2a8a": {
          "model_module": "@jupyter-widgets/controls",
          "model_name": "HBoxModel",
          "model_module_version": "1.5.0",
          "state": {
            "_dom_classes": [],
            "_model_module": "@jupyter-widgets/controls",
            "_model_module_version": "1.5.0",
            "_model_name": "HBoxModel",
            "_view_count": null,
            "_view_module": "@jupyter-widgets/controls",
            "_view_module_version": "1.5.0",
            "_view_name": "HBoxView",
            "box_style": "",
            "children": [
              "IPY_MODEL_8834e16fa5634211847dc80a6fb07f64",
              "IPY_MODEL_945116b147ef45f9bb3493f2c9bc189f",
              "IPY_MODEL_ed8ce2853a7a4fcdb5ad0dd912304e75"
            ],
            "layout": "IPY_MODEL_7324c7c3330f436ca54961ab74e55821"
          }
        },
        "8834e16fa5634211847dc80a6fb07f64": {
          "model_module": "@jupyter-widgets/controls",
          "model_name": "HTMLModel",
          "model_module_version": "1.5.0",
          "state": {
            "_dom_classes": [],
            "_model_module": "@jupyter-widgets/controls",
            "_model_module_version": "1.5.0",
            "_model_name": "HTMLModel",
            "_view_count": null,
            "_view_module": "@jupyter-widgets/controls",
            "_view_module_version": "1.5.0",
            "_view_name": "HTMLView",
            "description": "",
            "description_tooltip": null,
            "layout": "IPY_MODEL_c3a5bec19fd24082a7ed249056dbb429",
            "placeholder": "​",
            "style": "IPY_MODEL_169aaeb885414cee9c4b803c17daca0c",
            "value": "Downloading: 100%"
          }
        },
        "945116b147ef45f9bb3493f2c9bc189f": {
          "model_module": "@jupyter-widgets/controls",
          "model_name": "FloatProgressModel",
          "model_module_version": "1.5.0",
          "state": {
            "_dom_classes": [],
            "_model_module": "@jupyter-widgets/controls",
            "_model_module_version": "1.5.0",
            "_model_name": "FloatProgressModel",
            "_view_count": null,
            "_view_module": "@jupyter-widgets/controls",
            "_view_module_version": "1.5.0",
            "_view_name": "ProgressView",
            "bar_style": "success",
            "description": "",
            "description_tooltip": null,
            "layout": "IPY_MODEL_997d4f0317444d76ac133d9a1fe87b1c",
            "max": 1042301,
            "min": 0,
            "orientation": "horizontal",
            "style": "IPY_MODEL_81a46678ff06483ab9d1f00224289b02",
            "value": 1042301
          }
        },
        "ed8ce2853a7a4fcdb5ad0dd912304e75": {
          "model_module": "@jupyter-widgets/controls",
          "model_name": "HTMLModel",
          "model_module_version": "1.5.0",
          "state": {
            "_dom_classes": [],
            "_model_module": "@jupyter-widgets/controls",
            "_model_module_version": "1.5.0",
            "_model_name": "HTMLModel",
            "_view_count": null,
            "_view_module": "@jupyter-widgets/controls",
            "_view_module_version": "1.5.0",
            "_view_name": "HTMLView",
            "description": "",
            "description_tooltip": null,
            "layout": "IPY_MODEL_cbdcc576cac24ca086d6f5b9287ed6e4",
            "placeholder": "​",
            "style": "IPY_MODEL_ea6e5a76987b429fb878e67767f47294",
            "value": " 1.04M/1.04M [00:00&lt;00:00, 1.58MB/s]"
          }
        },
        "7324c7c3330f436ca54961ab74e55821": {
          "model_module": "@jupyter-widgets/base",
          "model_name": "LayoutModel",
          "model_module_version": "1.2.0",
          "state": {
            "_model_module": "@jupyter-widgets/base",
            "_model_module_version": "1.2.0",
            "_model_name": "LayoutModel",
            "_view_count": null,
            "_view_module": "@jupyter-widgets/base",
            "_view_module_version": "1.2.0",
            "_view_name": "LayoutView",
            "align_content": null,
            "align_items": null,
            "align_self": null,
            "border": null,
            "bottom": null,
            "display": null,
            "flex": null,
            "flex_flow": null,
            "grid_area": null,
            "grid_auto_columns": null,
            "grid_auto_flow": null,
            "grid_auto_rows": null,
            "grid_column": null,
            "grid_gap": null,
            "grid_row": null,
            "grid_template_areas": null,
            "grid_template_columns": null,
            "grid_template_rows": null,
            "height": null,
            "justify_content": null,
            "justify_items": null,
            "left": null,
            "margin": null,
            "max_height": null,
            "max_width": null,
            "min_height": null,
            "min_width": null,
            "object_fit": null,
            "object_position": null,
            "order": null,
            "overflow": null,
            "overflow_x": null,
            "overflow_y": null,
            "padding": null,
            "right": null,
            "top": null,
            "visibility": null,
            "width": null
          }
        },
        "c3a5bec19fd24082a7ed249056dbb429": {
          "model_module": "@jupyter-widgets/base",
          "model_name": "LayoutModel",
          "model_module_version": "1.2.0",
          "state": {
            "_model_module": "@jupyter-widgets/base",
            "_model_module_version": "1.2.0",
            "_model_name": "LayoutModel",
            "_view_count": null,
            "_view_module": "@jupyter-widgets/base",
            "_view_module_version": "1.2.0",
            "_view_name": "LayoutView",
            "align_content": null,
            "align_items": null,
            "align_self": null,
            "border": null,
            "bottom": null,
            "display": null,
            "flex": null,
            "flex_flow": null,
            "grid_area": null,
            "grid_auto_columns": null,
            "grid_auto_flow": null,
            "grid_auto_rows": null,
            "grid_column": null,
            "grid_gap": null,
            "grid_row": null,
            "grid_template_areas": null,
            "grid_template_columns": null,
            "grid_template_rows": null,
            "height": null,
            "justify_content": null,
            "justify_items": null,
            "left": null,
            "margin": null,
            "max_height": null,
            "max_width": null,
            "min_height": null,
            "min_width": null,
            "object_fit": null,
            "object_position": null,
            "order": null,
            "overflow": null,
            "overflow_x": null,
            "overflow_y": null,
            "padding": null,
            "right": null,
            "top": null,
            "visibility": null,
            "width": null
          }
        },
        "169aaeb885414cee9c4b803c17daca0c": {
          "model_module": "@jupyter-widgets/controls",
          "model_name": "DescriptionStyleModel",
          "model_module_version": "1.5.0",
          "state": {
            "_model_module": "@jupyter-widgets/controls",
            "_model_module_version": "1.5.0",
            "_model_name": "DescriptionStyleModel",
            "_view_count": null,
            "_view_module": "@jupyter-widgets/base",
            "_view_module_version": "1.2.0",
            "_view_name": "StyleView",
            "description_width": ""
          }
        },
        "997d4f0317444d76ac133d9a1fe87b1c": {
          "model_module": "@jupyter-widgets/base",
          "model_name": "LayoutModel",
          "model_module_version": "1.2.0",
          "state": {
            "_model_module": "@jupyter-widgets/base",
            "_model_module_version": "1.2.0",
            "_model_name": "LayoutModel",
            "_view_count": null,
            "_view_module": "@jupyter-widgets/base",
            "_view_module_version": "1.2.0",
            "_view_name": "LayoutView",
            "align_content": null,
            "align_items": null,
            "align_self": null,
            "border": null,
            "bottom": null,
            "display": null,
            "flex": null,
            "flex_flow": null,
            "grid_area": null,
            "grid_auto_columns": null,
            "grid_auto_flow": null,
            "grid_auto_rows": null,
            "grid_column": null,
            "grid_gap": null,
            "grid_row": null,
            "grid_template_areas": null,
            "grid_template_columns": null,
            "grid_template_rows": null,
            "height": null,
            "justify_content": null,
            "justify_items": null,
            "left": null,
            "margin": null,
            "max_height": null,
            "max_width": null,
            "min_height": null,
            "min_width": null,
            "object_fit": null,
            "object_position": null,
            "order": null,
            "overflow": null,
            "overflow_x": null,
            "overflow_y": null,
            "padding": null,
            "right": null,
            "top": null,
            "visibility": null,
            "width": null
          }
        },
        "81a46678ff06483ab9d1f00224289b02": {
          "model_module": "@jupyter-widgets/controls",
          "model_name": "ProgressStyleModel",
          "model_module_version": "1.5.0",
          "state": {
            "_model_module": "@jupyter-widgets/controls",
            "_model_module_version": "1.5.0",
            "_model_name": "ProgressStyleModel",
            "_view_count": null,
            "_view_module": "@jupyter-widgets/base",
            "_view_module_version": "1.2.0",
            "_view_name": "StyleView",
            "bar_color": null,
            "description_width": ""
          }
        },
        "cbdcc576cac24ca086d6f5b9287ed6e4": {
          "model_module": "@jupyter-widgets/base",
          "model_name": "LayoutModel",
          "model_module_version": "1.2.0",
          "state": {
            "_model_module": "@jupyter-widgets/base",
            "_model_module_version": "1.2.0",
            "_model_name": "LayoutModel",
            "_view_count": null,
            "_view_module": "@jupyter-widgets/base",
            "_view_module_version": "1.2.0",
            "_view_name": "LayoutView",
            "align_content": null,
            "align_items": null,
            "align_self": null,
            "border": null,
            "bottom": null,
            "display": null,
            "flex": null,
            "flex_flow": null,
            "grid_area": null,
            "grid_auto_columns": null,
            "grid_auto_flow": null,
            "grid_auto_rows": null,
            "grid_column": null,
            "grid_gap": null,
            "grid_row": null,
            "grid_template_areas": null,
            "grid_template_columns": null,
            "grid_template_rows": null,
            "height": null,
            "justify_content": null,
            "justify_items": null,
            "left": null,
            "margin": null,
            "max_height": null,
            "max_width": null,
            "min_height": null,
            "min_width": null,
            "object_fit": null,
            "object_position": null,
            "order": null,
            "overflow": null,
            "overflow_x": null,
            "overflow_y": null,
            "padding": null,
            "right": null,
            "top": null,
            "visibility": null,
            "width": null
          }
        },
        "ea6e5a76987b429fb878e67767f47294": {
          "model_module": "@jupyter-widgets/controls",
          "model_name": "DescriptionStyleModel",
          "model_module_version": "1.5.0",
          "state": {
            "_model_module": "@jupyter-widgets/controls",
            "_model_module_version": "1.5.0",
            "_model_name": "DescriptionStyleModel",
            "_view_count": null,
            "_view_module": "@jupyter-widgets/base",
            "_view_module_version": "1.2.0",
            "_view_name": "StyleView",
            "description_width": ""
          }
        },
        "63d7d3d10bd742cca3b0a7c98e93c477": {
          "model_module": "@jupyter-widgets/controls",
          "model_name": "HBoxModel",
          "model_module_version": "1.5.0",
          "state": {
            "_dom_classes": [],
            "_model_module": "@jupyter-widgets/controls",
            "_model_module_version": "1.5.0",
            "_model_name": "HBoxModel",
            "_view_count": null,
            "_view_module": "@jupyter-widgets/controls",
            "_view_module_version": "1.5.0",
            "_view_name": "HBoxView",
            "box_style": "",
            "children": [
              "IPY_MODEL_a6ba8014e77f403c889101d46b47e10a",
              "IPY_MODEL_154f21afc3114166b5efd0e76a397d2c",
              "IPY_MODEL_14c4907ca7c74ac3abdec864faf2f474"
            ],
            "layout": "IPY_MODEL_3ff35115c4944005adbe1c5428d01856"
          }
        },
        "a6ba8014e77f403c889101d46b47e10a": {
          "model_module": "@jupyter-widgets/controls",
          "model_name": "HTMLModel",
          "model_module_version": "1.5.0",
          "state": {
            "_dom_classes": [],
            "_model_module": "@jupyter-widgets/controls",
            "_model_module_version": "1.5.0",
            "_model_name": "HTMLModel",
            "_view_count": null,
            "_view_module": "@jupyter-widgets/controls",
            "_view_module_version": "1.5.0",
            "_view_name": "HTMLView",
            "description": "",
            "description_tooltip": null,
            "layout": "IPY_MODEL_9ef3de1eb2ba4066b617631cb58d4119",
            "placeholder": "​",
            "style": "IPY_MODEL_00367fd967d04d228fd21068a3e7cc40",
            "value": "Downloading: 100%"
          }
        },
        "154f21afc3114166b5efd0e76a397d2c": {
          "model_module": "@jupyter-widgets/controls",
          "model_name": "FloatProgressModel",
          "model_module_version": "1.5.0",
          "state": {
            "_dom_classes": [],
            "_model_module": "@jupyter-widgets/controls",
            "_model_module_version": "1.5.0",
            "_model_name": "FloatProgressModel",
            "_view_count": null,
            "_view_module": "@jupyter-widgets/controls",
            "_view_module_version": "1.5.0",
            "_view_name": "ProgressView",
            "bar_style": "success",
            "description": "",
            "description_tooltip": null,
            "layout": "IPY_MODEL_90e42afddbe84c58b407df9c10d2214b",
            "max": 456318,
            "min": 0,
            "orientation": "horizontal",
            "style": "IPY_MODEL_9e3c3a5a802c43c694e81551990eef6a",
            "value": 456318
          }
        },
        "14c4907ca7c74ac3abdec864faf2f474": {
          "model_module": "@jupyter-widgets/controls",
          "model_name": "HTMLModel",
          "model_module_version": "1.5.0",
          "state": {
            "_dom_classes": [],
            "_model_module": "@jupyter-widgets/controls",
            "_model_module_version": "1.5.0",
            "_model_name": "HTMLModel",
            "_view_count": null,
            "_view_module": "@jupyter-widgets/controls",
            "_view_module_version": "1.5.0",
            "_view_name": "HTMLView",
            "description": "",
            "description_tooltip": null,
            "layout": "IPY_MODEL_c40fdf098b594a3fa1f1a6a023517059",
            "placeholder": "​",
            "style": "IPY_MODEL_392d6ce5e9c24fd28a1abc6ab13dc704",
            "value": " 456k/456k [00:00&lt;00:00, 572kB/s]"
          }
        },
        "3ff35115c4944005adbe1c5428d01856": {
          "model_module": "@jupyter-widgets/base",
          "model_name": "LayoutModel",
          "model_module_version": "1.2.0",
          "state": {
            "_model_module": "@jupyter-widgets/base",
            "_model_module_version": "1.2.0",
            "_model_name": "LayoutModel",
            "_view_count": null,
            "_view_module": "@jupyter-widgets/base",
            "_view_module_version": "1.2.0",
            "_view_name": "LayoutView",
            "align_content": null,
            "align_items": null,
            "align_self": null,
            "border": null,
            "bottom": null,
            "display": null,
            "flex": null,
            "flex_flow": null,
            "grid_area": null,
            "grid_auto_columns": null,
            "grid_auto_flow": null,
            "grid_auto_rows": null,
            "grid_column": null,
            "grid_gap": null,
            "grid_row": null,
            "grid_template_areas": null,
            "grid_template_columns": null,
            "grid_template_rows": null,
            "height": null,
            "justify_content": null,
            "justify_items": null,
            "left": null,
            "margin": null,
            "max_height": null,
            "max_width": null,
            "min_height": null,
            "min_width": null,
            "object_fit": null,
            "object_position": null,
            "order": null,
            "overflow": null,
            "overflow_x": null,
            "overflow_y": null,
            "padding": null,
            "right": null,
            "top": null,
            "visibility": null,
            "width": null
          }
        },
        "9ef3de1eb2ba4066b617631cb58d4119": {
          "model_module": "@jupyter-widgets/base",
          "model_name": "LayoutModel",
          "model_module_version": "1.2.0",
          "state": {
            "_model_module": "@jupyter-widgets/base",
            "_model_module_version": "1.2.0",
            "_model_name": "LayoutModel",
            "_view_count": null,
            "_view_module": "@jupyter-widgets/base",
            "_view_module_version": "1.2.0",
            "_view_name": "LayoutView",
            "align_content": null,
            "align_items": null,
            "align_self": null,
            "border": null,
            "bottom": null,
            "display": null,
            "flex": null,
            "flex_flow": null,
            "grid_area": null,
            "grid_auto_columns": null,
            "grid_auto_flow": null,
            "grid_auto_rows": null,
            "grid_column": null,
            "grid_gap": null,
            "grid_row": null,
            "grid_template_areas": null,
            "grid_template_columns": null,
            "grid_template_rows": null,
            "height": null,
            "justify_content": null,
            "justify_items": null,
            "left": null,
            "margin": null,
            "max_height": null,
            "max_width": null,
            "min_height": null,
            "min_width": null,
            "object_fit": null,
            "object_position": null,
            "order": null,
            "overflow": null,
            "overflow_x": null,
            "overflow_y": null,
            "padding": null,
            "right": null,
            "top": null,
            "visibility": null,
            "width": null
          }
        },
        "00367fd967d04d228fd21068a3e7cc40": {
          "model_module": "@jupyter-widgets/controls",
          "model_name": "DescriptionStyleModel",
          "model_module_version": "1.5.0",
          "state": {
            "_model_module": "@jupyter-widgets/controls",
            "_model_module_version": "1.5.0",
            "_model_name": "DescriptionStyleModel",
            "_view_count": null,
            "_view_module": "@jupyter-widgets/base",
            "_view_module_version": "1.2.0",
            "_view_name": "StyleView",
            "description_width": ""
          }
        },
        "90e42afddbe84c58b407df9c10d2214b": {
          "model_module": "@jupyter-widgets/base",
          "model_name": "LayoutModel",
          "model_module_version": "1.2.0",
          "state": {
            "_model_module": "@jupyter-widgets/base",
            "_model_module_version": "1.2.0",
            "_model_name": "LayoutModel",
            "_view_count": null,
            "_view_module": "@jupyter-widgets/base",
            "_view_module_version": "1.2.0",
            "_view_name": "LayoutView",
            "align_content": null,
            "align_items": null,
            "align_self": null,
            "border": null,
            "bottom": null,
            "display": null,
            "flex": null,
            "flex_flow": null,
            "grid_area": null,
            "grid_auto_columns": null,
            "grid_auto_flow": null,
            "grid_auto_rows": null,
            "grid_column": null,
            "grid_gap": null,
            "grid_row": null,
            "grid_template_areas": null,
            "grid_template_columns": null,
            "grid_template_rows": null,
            "height": null,
            "justify_content": null,
            "justify_items": null,
            "left": null,
            "margin": null,
            "max_height": null,
            "max_width": null,
            "min_height": null,
            "min_width": null,
            "object_fit": null,
            "object_position": null,
            "order": null,
            "overflow": null,
            "overflow_x": null,
            "overflow_y": null,
            "padding": null,
            "right": null,
            "top": null,
            "visibility": null,
            "width": null
          }
        },
        "9e3c3a5a802c43c694e81551990eef6a": {
          "model_module": "@jupyter-widgets/controls",
          "model_name": "ProgressStyleModel",
          "model_module_version": "1.5.0",
          "state": {
            "_model_module": "@jupyter-widgets/controls",
            "_model_module_version": "1.5.0",
            "_model_name": "ProgressStyleModel",
            "_view_count": null,
            "_view_module": "@jupyter-widgets/base",
            "_view_module_version": "1.2.0",
            "_view_name": "StyleView",
            "bar_color": null,
            "description_width": ""
          }
        },
        "c40fdf098b594a3fa1f1a6a023517059": {
          "model_module": "@jupyter-widgets/base",
          "model_name": "LayoutModel",
          "model_module_version": "1.2.0",
          "state": {
            "_model_module": "@jupyter-widgets/base",
            "_model_module_version": "1.2.0",
            "_model_name": "LayoutModel",
            "_view_count": null,
            "_view_module": "@jupyter-widgets/base",
            "_view_module_version": "1.2.0",
            "_view_name": "LayoutView",
            "align_content": null,
            "align_items": null,
            "align_self": null,
            "border": null,
            "bottom": null,
            "display": null,
            "flex": null,
            "flex_flow": null,
            "grid_area": null,
            "grid_auto_columns": null,
            "grid_auto_flow": null,
            "grid_auto_rows": null,
            "grid_column": null,
            "grid_gap": null,
            "grid_row": null,
            "grid_template_areas": null,
            "grid_template_columns": null,
            "grid_template_rows": null,
            "height": null,
            "justify_content": null,
            "justify_items": null,
            "left": null,
            "margin": null,
            "max_height": null,
            "max_width": null,
            "min_height": null,
            "min_width": null,
            "object_fit": null,
            "object_position": null,
            "order": null,
            "overflow": null,
            "overflow_x": null,
            "overflow_y": null,
            "padding": null,
            "right": null,
            "top": null,
            "visibility": null,
            "width": null
          }
        },
        "392d6ce5e9c24fd28a1abc6ab13dc704": {
          "model_module": "@jupyter-widgets/controls",
          "model_name": "DescriptionStyleModel",
          "model_module_version": "1.5.0",
          "state": {
            "_model_module": "@jupyter-widgets/controls",
            "_model_module_version": "1.5.0",
            "_model_name": "DescriptionStyleModel",
            "_view_count": null,
            "_view_module": "@jupyter-widgets/base",
            "_view_module_version": "1.2.0",
            "_view_name": "StyleView",
            "description_width": ""
          }
        },
        "94349e3d928d468f9e54b12ef1edfe18": {
          "model_module": "@jupyter-widgets/controls",
          "model_name": "HBoxModel",
          "model_module_version": "1.5.0",
          "state": {
            "_dom_classes": [],
            "_model_module": "@jupyter-widgets/controls",
            "_model_module_version": "1.5.0",
            "_model_name": "HBoxModel",
            "_view_count": null,
            "_view_module": "@jupyter-widgets/controls",
            "_view_module_version": "1.5.0",
            "_view_name": "HBoxView",
            "box_style": "",
            "children": [
              "IPY_MODEL_8fad97f9ae1d459a96eb62331a82b427",
              "IPY_MODEL_ff03f881399441a1979c77d61c406fd4",
              "IPY_MODEL_760229eaff9143cdb8254d0120979c3e"
            ],
            "layout": "IPY_MODEL_022772d0abe34aff894c1d033fcb77df"
          }
        },
        "8fad97f9ae1d459a96eb62331a82b427": {
          "model_module": "@jupyter-widgets/controls",
          "model_name": "HTMLModel",
          "model_module_version": "1.5.0",
          "state": {
            "_dom_classes": [],
            "_model_module": "@jupyter-widgets/controls",
            "_model_module_version": "1.5.0",
            "_model_name": "HTMLModel",
            "_view_count": null,
            "_view_module": "@jupyter-widgets/controls",
            "_view_module_version": "1.5.0",
            "_view_name": "HTMLView",
            "description": "",
            "description_tooltip": null,
            "layout": "IPY_MODEL_cdf8ad1c8f094c44b4563fbb12ce99f1",
            "placeholder": "​",
            "style": "IPY_MODEL_938800f4043e45a4b1095bb897b872a0",
            "value": "Downloading: 100%"
          }
        },
        "ff03f881399441a1979c77d61c406fd4": {
          "model_module": "@jupyter-widgets/controls",
          "model_name": "FloatProgressModel",
          "model_module_version": "1.5.0",
          "state": {
            "_dom_classes": [],
            "_model_module": "@jupyter-widgets/controls",
            "_model_module_version": "1.5.0",
            "_model_name": "FloatProgressModel",
            "_view_count": null,
            "_view_module": "@jupyter-widgets/controls",
            "_view_module_version": "1.5.0",
            "_view_name": "ProgressView",
            "bar_style": "success",
            "description": "",
            "description_tooltip": null,
            "layout": "IPY_MODEL_54430de75b6445dbb12adba460f0daf3",
            "max": 718,
            "min": 0,
            "orientation": "horizontal",
            "style": "IPY_MODEL_97e6f3b4f1b6481394440ab3e028bc32",
            "value": 718
          }
        },
        "760229eaff9143cdb8254d0120979c3e": {
          "model_module": "@jupyter-widgets/controls",
          "model_name": "HTMLModel",
          "model_module_version": "1.5.0",
          "state": {
            "_dom_classes": [],
            "_model_module": "@jupyter-widgets/controls",
            "_model_module_version": "1.5.0",
            "_model_name": "HTMLModel",
            "_view_count": null,
            "_view_module": "@jupyter-widgets/controls",
            "_view_module_version": "1.5.0",
            "_view_name": "HTMLView",
            "description": "",
            "description_tooltip": null,
            "layout": "IPY_MODEL_5899660c851742c486d319e3c29624e6",
            "placeholder": "​",
            "style": "IPY_MODEL_6b9b5bb4454848279766d2e40f9c6935",
            "value": " 718/718 [00:00&lt;00:00, 23.7kB/s]"
          }
        },
        "022772d0abe34aff894c1d033fcb77df": {
          "model_module": "@jupyter-widgets/base",
          "model_name": "LayoutModel",
          "model_module_version": "1.2.0",
          "state": {
            "_model_module": "@jupyter-widgets/base",
            "_model_module_version": "1.2.0",
            "_model_name": "LayoutModel",
            "_view_count": null,
            "_view_module": "@jupyter-widgets/base",
            "_view_module_version": "1.2.0",
            "_view_name": "LayoutView",
            "align_content": null,
            "align_items": null,
            "align_self": null,
            "border": null,
            "bottom": null,
            "display": null,
            "flex": null,
            "flex_flow": null,
            "grid_area": null,
            "grid_auto_columns": null,
            "grid_auto_flow": null,
            "grid_auto_rows": null,
            "grid_column": null,
            "grid_gap": null,
            "grid_row": null,
            "grid_template_areas": null,
            "grid_template_columns": null,
            "grid_template_rows": null,
            "height": null,
            "justify_content": null,
            "justify_items": null,
            "left": null,
            "margin": null,
            "max_height": null,
            "max_width": null,
            "min_height": null,
            "min_width": null,
            "object_fit": null,
            "object_position": null,
            "order": null,
            "overflow": null,
            "overflow_x": null,
            "overflow_y": null,
            "padding": null,
            "right": null,
            "top": null,
            "visibility": null,
            "width": null
          }
        },
        "cdf8ad1c8f094c44b4563fbb12ce99f1": {
          "model_module": "@jupyter-widgets/base",
          "model_name": "LayoutModel",
          "model_module_version": "1.2.0",
          "state": {
            "_model_module": "@jupyter-widgets/base",
            "_model_module_version": "1.2.0",
            "_model_name": "LayoutModel",
            "_view_count": null,
            "_view_module": "@jupyter-widgets/base",
            "_view_module_version": "1.2.0",
            "_view_name": "LayoutView",
            "align_content": null,
            "align_items": null,
            "align_self": null,
            "border": null,
            "bottom": null,
            "display": null,
            "flex": null,
            "flex_flow": null,
            "grid_area": null,
            "grid_auto_columns": null,
            "grid_auto_flow": null,
            "grid_auto_rows": null,
            "grid_column": null,
            "grid_gap": null,
            "grid_row": null,
            "grid_template_areas": null,
            "grid_template_columns": null,
            "grid_template_rows": null,
            "height": null,
            "justify_content": null,
            "justify_items": null,
            "left": null,
            "margin": null,
            "max_height": null,
            "max_width": null,
            "min_height": null,
            "min_width": null,
            "object_fit": null,
            "object_position": null,
            "order": null,
            "overflow": null,
            "overflow_x": null,
            "overflow_y": null,
            "padding": null,
            "right": null,
            "top": null,
            "visibility": null,
            "width": null
          }
        },
        "938800f4043e45a4b1095bb897b872a0": {
          "model_module": "@jupyter-widgets/controls",
          "model_name": "DescriptionStyleModel",
          "model_module_version": "1.5.0",
          "state": {
            "_model_module": "@jupyter-widgets/controls",
            "_model_module_version": "1.5.0",
            "_model_name": "DescriptionStyleModel",
            "_view_count": null,
            "_view_module": "@jupyter-widgets/base",
            "_view_module_version": "1.2.0",
            "_view_name": "StyleView",
            "description_width": ""
          }
        },
        "54430de75b6445dbb12adba460f0daf3": {
          "model_module": "@jupyter-widgets/base",
          "model_name": "LayoutModel",
          "model_module_version": "1.2.0",
          "state": {
            "_model_module": "@jupyter-widgets/base",
            "_model_module_version": "1.2.0",
            "_model_name": "LayoutModel",
            "_view_count": null,
            "_view_module": "@jupyter-widgets/base",
            "_view_module_version": "1.2.0",
            "_view_name": "LayoutView",
            "align_content": null,
            "align_items": null,
            "align_self": null,
            "border": null,
            "bottom": null,
            "display": null,
            "flex": null,
            "flex_flow": null,
            "grid_area": null,
            "grid_auto_columns": null,
            "grid_auto_flow": null,
            "grid_auto_rows": null,
            "grid_column": null,
            "grid_gap": null,
            "grid_row": null,
            "grid_template_areas": null,
            "grid_template_columns": null,
            "grid_template_rows": null,
            "height": null,
            "justify_content": null,
            "justify_items": null,
            "left": null,
            "margin": null,
            "max_height": null,
            "max_width": null,
            "min_height": null,
            "min_width": null,
            "object_fit": null,
            "object_position": null,
            "order": null,
            "overflow": null,
            "overflow_x": null,
            "overflow_y": null,
            "padding": null,
            "right": null,
            "top": null,
            "visibility": null,
            "width": null
          }
        },
        "97e6f3b4f1b6481394440ab3e028bc32": {
          "model_module": "@jupyter-widgets/controls",
          "model_name": "ProgressStyleModel",
          "model_module_version": "1.5.0",
          "state": {
            "_model_module": "@jupyter-widgets/controls",
            "_model_module_version": "1.5.0",
            "_model_name": "ProgressStyleModel",
            "_view_count": null,
            "_view_module": "@jupyter-widgets/base",
            "_view_module_version": "1.2.0",
            "_view_name": "StyleView",
            "bar_color": null,
            "description_width": ""
          }
        },
        "5899660c851742c486d319e3c29624e6": {
          "model_module": "@jupyter-widgets/base",
          "model_name": "LayoutModel",
          "model_module_version": "1.2.0",
          "state": {
            "_model_module": "@jupyter-widgets/base",
            "_model_module_version": "1.2.0",
            "_model_name": "LayoutModel",
            "_view_count": null,
            "_view_module": "@jupyter-widgets/base",
            "_view_module_version": "1.2.0",
            "_view_name": "LayoutView",
            "align_content": null,
            "align_items": null,
            "align_self": null,
            "border": null,
            "bottom": null,
            "display": null,
            "flex": null,
            "flex_flow": null,
            "grid_area": null,
            "grid_auto_columns": null,
            "grid_auto_flow": null,
            "grid_auto_rows": null,
            "grid_column": null,
            "grid_gap": null,
            "grid_row": null,
            "grid_template_areas": null,
            "grid_template_columns": null,
            "grid_template_rows": null,
            "height": null,
            "justify_content": null,
            "justify_items": null,
            "left": null,
            "margin": null,
            "max_height": null,
            "max_width": null,
            "min_height": null,
            "min_width": null,
            "object_fit": null,
            "object_position": null,
            "order": null,
            "overflow": null,
            "overflow_x": null,
            "overflow_y": null,
            "padding": null,
            "right": null,
            "top": null,
            "visibility": null,
            "width": null
          }
        },
        "6b9b5bb4454848279766d2e40f9c6935": {
          "model_module": "@jupyter-widgets/controls",
          "model_name": "DescriptionStyleModel",
          "model_module_version": "1.5.0",
          "state": {
            "_model_module": "@jupyter-widgets/controls",
            "_model_module_version": "1.5.0",
            "_model_name": "DescriptionStyleModel",
            "_view_count": null,
            "_view_module": "@jupyter-widgets/base",
            "_view_module_version": "1.2.0",
            "_view_name": "StyleView",
            "description_width": ""
          }
        },
        "808354f7fdc14104a86ea73c6a9aec71": {
          "model_module": "@jupyter-widgets/controls",
          "model_name": "HBoxModel",
          "model_module_version": "1.5.0",
          "state": {
            "_dom_classes": [],
            "_model_module": "@jupyter-widgets/controls",
            "_model_module_version": "1.5.0",
            "_model_name": "HBoxModel",
            "_view_count": null,
            "_view_module": "@jupyter-widgets/controls",
            "_view_module_version": "1.5.0",
            "_view_name": "HBoxView",
            "box_style": "",
            "children": [
              "IPY_MODEL_9d568272583c4a008de4c36ded9f0a43",
              "IPY_MODEL_dc3f31b883bf474982410713f9b481ce",
              "IPY_MODEL_73b11d13f9dc48a4a38bd7652dccc79d"
            ],
            "layout": "IPY_MODEL_26789b034b2744138e885a09dea7cca2"
          }
        },
        "9d568272583c4a008de4c36ded9f0a43": {
          "model_module": "@jupyter-widgets/controls",
          "model_name": "HTMLModel",
          "model_module_version": "1.5.0",
          "state": {
            "_dom_classes": [],
            "_model_module": "@jupyter-widgets/controls",
            "_model_module_version": "1.5.0",
            "_model_name": "HTMLModel",
            "_view_count": null,
            "_view_module": "@jupyter-widgets/controls",
            "_view_module_version": "1.5.0",
            "_view_name": "HTMLView",
            "description": "",
            "description_tooltip": null,
            "layout": "IPY_MODEL_439428f2c718471687dcd57092dcb45b",
            "placeholder": "​",
            "style": "IPY_MODEL_4b61887c21c14a9da3d06c3fd41cc0ab",
            "value": "Downloading: 100%"
          }
        },
        "dc3f31b883bf474982410713f9b481ce": {
          "model_module": "@jupyter-widgets/controls",
          "model_name": "FloatProgressModel",
          "model_module_version": "1.5.0",
          "state": {
            "_dom_classes": [],
            "_model_module": "@jupyter-widgets/controls",
            "_model_module_version": "1.5.0",
            "_model_name": "FloatProgressModel",
            "_view_count": null,
            "_view_module": "@jupyter-widgets/controls",
            "_view_module_version": "1.5.0",
            "_view_name": "ProgressView",
            "bar_style": "success",
            "description": "",
            "description_tooltip": null,
            "layout": "IPY_MODEL_b2a0ff35e5fa40e68f13416b08ddc36b",
            "max": 1520013706,
            "min": 0,
            "orientation": "horizontal",
            "style": "IPY_MODEL_867c5ab121614c598c7b7eb7d3e0491a",
            "value": 1520013706
          }
        },
        "73b11d13f9dc48a4a38bd7652dccc79d": {
          "model_module": "@jupyter-widgets/controls",
          "model_name": "HTMLModel",
          "model_module_version": "1.5.0",
          "state": {
            "_dom_classes": [],
            "_model_module": "@jupyter-widgets/controls",
            "_model_module_version": "1.5.0",
            "_model_name": "HTMLModel",
            "_view_count": null,
            "_view_module": "@jupyter-widgets/controls",
            "_view_module_version": "1.5.0",
            "_view_name": "HTMLView",
            "description": "",
            "description_tooltip": null,
            "layout": "IPY_MODEL_bc842f1f2f834229a7b1ff15d0da4db0",
            "placeholder": "​",
            "style": "IPY_MODEL_12a1e06a95ad4d2eb33900157a99cf4d",
            "value": " 1.52G/1.52G [00:36&lt;00:00, 60.7MB/s]"
          }
        },
        "26789b034b2744138e885a09dea7cca2": {
          "model_module": "@jupyter-widgets/base",
          "model_name": "LayoutModel",
          "model_module_version": "1.2.0",
          "state": {
            "_model_module": "@jupyter-widgets/base",
            "_model_module_version": "1.2.0",
            "_model_name": "LayoutModel",
            "_view_count": null,
            "_view_module": "@jupyter-widgets/base",
            "_view_module_version": "1.2.0",
            "_view_name": "LayoutView",
            "align_content": null,
            "align_items": null,
            "align_self": null,
            "border": null,
            "bottom": null,
            "display": null,
            "flex": null,
            "flex_flow": null,
            "grid_area": null,
            "grid_auto_columns": null,
            "grid_auto_flow": null,
            "grid_auto_rows": null,
            "grid_column": null,
            "grid_gap": null,
            "grid_row": null,
            "grid_template_areas": null,
            "grid_template_columns": null,
            "grid_template_rows": null,
            "height": null,
            "justify_content": null,
            "justify_items": null,
            "left": null,
            "margin": null,
            "max_height": null,
            "max_width": null,
            "min_height": null,
            "min_width": null,
            "object_fit": null,
            "object_position": null,
            "order": null,
            "overflow": null,
            "overflow_x": null,
            "overflow_y": null,
            "padding": null,
            "right": null,
            "top": null,
            "visibility": null,
            "width": null
          }
        },
        "439428f2c718471687dcd57092dcb45b": {
          "model_module": "@jupyter-widgets/base",
          "model_name": "LayoutModel",
          "model_module_version": "1.2.0",
          "state": {
            "_model_module": "@jupyter-widgets/base",
            "_model_module_version": "1.2.0",
            "_model_name": "LayoutModel",
            "_view_count": null,
            "_view_module": "@jupyter-widgets/base",
            "_view_module_version": "1.2.0",
            "_view_name": "LayoutView",
            "align_content": null,
            "align_items": null,
            "align_self": null,
            "border": null,
            "bottom": null,
            "display": null,
            "flex": null,
            "flex_flow": null,
            "grid_area": null,
            "grid_auto_columns": null,
            "grid_auto_flow": null,
            "grid_auto_rows": null,
            "grid_column": null,
            "grid_gap": null,
            "grid_row": null,
            "grid_template_areas": null,
            "grid_template_columns": null,
            "grid_template_rows": null,
            "height": null,
            "justify_content": null,
            "justify_items": null,
            "left": null,
            "margin": null,
            "max_height": null,
            "max_width": null,
            "min_height": null,
            "min_width": null,
            "object_fit": null,
            "object_position": null,
            "order": null,
            "overflow": null,
            "overflow_x": null,
            "overflow_y": null,
            "padding": null,
            "right": null,
            "top": null,
            "visibility": null,
            "width": null
          }
        },
        "4b61887c21c14a9da3d06c3fd41cc0ab": {
          "model_module": "@jupyter-widgets/controls",
          "model_name": "DescriptionStyleModel",
          "model_module_version": "1.5.0",
          "state": {
            "_model_module": "@jupyter-widgets/controls",
            "_model_module_version": "1.5.0",
            "_model_name": "DescriptionStyleModel",
            "_view_count": null,
            "_view_module": "@jupyter-widgets/base",
            "_view_module_version": "1.2.0",
            "_view_name": "StyleView",
            "description_width": ""
          }
        },
        "b2a0ff35e5fa40e68f13416b08ddc36b": {
          "model_module": "@jupyter-widgets/base",
          "model_name": "LayoutModel",
          "model_module_version": "1.2.0",
          "state": {
            "_model_module": "@jupyter-widgets/base",
            "_model_module_version": "1.2.0",
            "_model_name": "LayoutModel",
            "_view_count": null,
            "_view_module": "@jupyter-widgets/base",
            "_view_module_version": "1.2.0",
            "_view_name": "LayoutView",
            "align_content": null,
            "align_items": null,
            "align_self": null,
            "border": null,
            "bottom": null,
            "display": null,
            "flex": null,
            "flex_flow": null,
            "grid_area": null,
            "grid_auto_columns": null,
            "grid_auto_flow": null,
            "grid_auto_rows": null,
            "grid_column": null,
            "grid_gap": null,
            "grid_row": null,
            "grid_template_areas": null,
            "grid_template_columns": null,
            "grid_template_rows": null,
            "height": null,
            "justify_content": null,
            "justify_items": null,
            "left": null,
            "margin": null,
            "max_height": null,
            "max_width": null,
            "min_height": null,
            "min_width": null,
            "object_fit": null,
            "object_position": null,
            "order": null,
            "overflow": null,
            "overflow_x": null,
            "overflow_y": null,
            "padding": null,
            "right": null,
            "top": null,
            "visibility": null,
            "width": null
          }
        },
        "867c5ab121614c598c7b7eb7d3e0491a": {
          "model_module": "@jupyter-widgets/controls",
          "model_name": "ProgressStyleModel",
          "model_module_version": "1.5.0",
          "state": {
            "_model_module": "@jupyter-widgets/controls",
            "_model_module_version": "1.5.0",
            "_model_name": "ProgressStyleModel",
            "_view_count": null,
            "_view_module": "@jupyter-widgets/base",
            "_view_module_version": "1.2.0",
            "_view_name": "StyleView",
            "bar_color": null,
            "description_width": ""
          }
        },
        "bc842f1f2f834229a7b1ff15d0da4db0": {
          "model_module": "@jupyter-widgets/base",
          "model_name": "LayoutModel",
          "model_module_version": "1.2.0",
          "state": {
            "_model_module": "@jupyter-widgets/base",
            "_model_module_version": "1.2.0",
            "_model_name": "LayoutModel",
            "_view_count": null,
            "_view_module": "@jupyter-widgets/base",
            "_view_module_version": "1.2.0",
            "_view_name": "LayoutView",
            "align_content": null,
            "align_items": null,
            "align_self": null,
            "border": null,
            "bottom": null,
            "display": null,
            "flex": null,
            "flex_flow": null,
            "grid_area": null,
            "grid_auto_columns": null,
            "grid_auto_flow": null,
            "grid_auto_rows": null,
            "grid_column": null,
            "grid_gap": null,
            "grid_row": null,
            "grid_template_areas": null,
            "grid_template_columns": null,
            "grid_template_rows": null,
            "height": null,
            "justify_content": null,
            "justify_items": null,
            "left": null,
            "margin": null,
            "max_height": null,
            "max_width": null,
            "min_height": null,
            "min_width": null,
            "object_fit": null,
            "object_position": null,
            "order": null,
            "overflow": null,
            "overflow_x": null,
            "overflow_y": null,
            "padding": null,
            "right": null,
            "top": null,
            "visibility": null,
            "width": null
          }
        },
        "12a1e06a95ad4d2eb33900157a99cf4d": {
          "model_module": "@jupyter-widgets/controls",
          "model_name": "DescriptionStyleModel",
          "model_module_version": "1.5.0",
          "state": {
            "_model_module": "@jupyter-widgets/controls",
            "_model_module_version": "1.5.0",
            "_model_name": "DescriptionStyleModel",
            "_view_count": null,
            "_view_module": "@jupyter-widgets/base",
            "_view_module_version": "1.2.0",
            "_view_name": "StyleView",
            "description_width": ""
          }
        }
      }
    }
  },
  "nbformat": 4,
  "nbformat_minor": 0
}